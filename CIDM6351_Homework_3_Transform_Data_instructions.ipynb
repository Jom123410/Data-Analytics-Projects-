{
  "nbformat": 4,
  "nbformat_minor": 0,
  "metadata": {
    "colab": {
      "provenance": [],
      "include_colab_link": true
    },
    "kernelspec": {
      "name": "python3",
      "display_name": "Python 3"
    },
    "language_info": {
      "name": "python"
    }
  },
  "cells": [
    {
      "cell_type": "markdown",
      "metadata": {
        "id": "view-in-github",
        "colab_type": "text"
      },
      "source": [
        "<a href=\"https://colab.research.google.com/github/Jom123410/280222/blob/master/CIDM6351_Homework_3_Transform_Data_instructions.ipynb\" target=\"_parent\"><img src=\"https://colab.research.google.com/assets/colab-badge.svg\" alt=\"Open In Colab\"/></a>"
      ]
    },
    {
      "cell_type": "markdown",
      "source": [
        "\n",
        "# CIDM6351 Homework 3 Transform Data instructions  \n",
        "\n",
        "In this homework, you will apply transformation operations on various datasets and answer some questions about the data.\n",
        "\n",
        "TASK:   \n",
        "1. Copy and save a copy of this Google Colab notebook\n",
        "2. Change the Share's General Access to \"Anyone with a link\" so that the professor can see your code\n",
        "3. When done, deliver the URL of your notebook to \\\\WTclass\\cidm6351\\lessons\\Week 9\\Turn in Homework 3\\\n",
        "\n",
        "Purpose: After loading and cleaning data, the next operation usually required by data engineers is to transform the data. Transform means to change the dataset, e.g., create new columns or group by rows."
      ],
      "metadata": {
        "id": "QSUfu1hW7VkL"
      }
    },
    {
      "cell_type": "markdown",
      "source": [
        "## Analyze the Bike Rental Market in Seoul Korea.\n",
        "The city has a bike rental option to aid public transport. Load, clean, transform the data to perform a useful analysis. <br>\n",
        "<img src=\"https://upload.wikimedia.org/wikipedia/commons/9/97/North_Korea_Bike_Tour_%2814115456159%29.jpg\" height=\"100px\" alt=\"bikes\"><br>\n",
        "\n",
        "Photo: Uri Tours (uritours.com), CC BY-SA 2.0 <https://creativecommons.org/licenses/by-sa/2.0>, via Wikimedia Commons.\n",
        "\n",
        "The original author and source of the data is found here: <https://www.kaggle.com/datasets/willianoliveiragibin/bike-seoul-sharing/?select=SeoulBikeData.csv>"
      ],
      "metadata": {
        "id": "LqoMR1Or88fy"
      }
    },
    {
      "cell_type": "markdown",
      "source": [
        "## Task 1: Load the data\n",
        "\n",
        "Import the Seoul Korea Bike data into a pandas dataframe. The URL to the raw data on github is already provided for you in the code below. Inspect the data with .head and .info.\n",
        "\n",
        "Data dictionary:  \n",
        "Rented bike count is the number of bikes rented. <br>\n",
        "Date is the day of the rental. Notice the date format is day, month, year DD/MM/YYYY.  <br>\n",
        "Hour is the hour of the day in 24-hour military time, e.g. 12 is noon and 23 hours is 11pm.  <br>\n",
        "Temperature is the ambient temperature in Celsius.  <br>\n",
        "To see the other columns, visit the kaggle.com website click the Column's tab to see a list of the columns and their unit of measure.\n",
        "\n",
        "\n"
      ],
      "metadata": {
        "id": "TCUTlSbh--gr"
      }
    },
    {
      "cell_type": "code",
      "source": [
        "import pandas as pd"
      ],
      "metadata": {
        "id": "H6RO_JSB18ua"
      },
      "execution_count": 1,
      "outputs": []
    },
    {
      "cell_type": "code",
      "execution_count": 2,
      "metadata": {
        "id": "tYF2xmGh7OTN"
      },
      "outputs": [],
      "source": [
        "seoul_bike_data_url = 'https://raw.githubusercontent.com/sean-humpherys/randomfilestorage/main/seoulbikedata.csv'\n",
        "seoul_bike_data = pd.read_csv(seoul_bike_data_url)\n",
        "\n"
      ]
    },
    {
      "cell_type": "code",
      "source": [
        "print(seoul_bike_data.head())\n",
        "print(seoul_bike_data.info())"
      ],
      "metadata": {
        "colab": {
          "base_uri": "https://localhost:8080/"
        },
        "id": "SJyfVISG1EPG",
        "outputId": "38416062-ae82-4ecd-ddc4-7d0fa61ea8df"
      },
      "execution_count": 3,
      "outputs": [
        {
          "output_type": "stream",
          "name": "stdout",
          "text": [
            "         Date  Rented Bike Count  Hour  Temperature(C)  Humidity(%)  \\\n",
            "0  01/12/2017                254     0            -5.2           37   \n",
            "1  01/12/2017                204     1            -5.5           38   \n",
            "2  01/12/2017                173     2            -6.0           39   \n",
            "3  01/12/2017                107     3            -6.2           40   \n",
            "4  01/12/2017                 78     4            -6.0           36   \n",
            "\n",
            "   Wind speed (m/s)  Visibility (10m)  Dew point temperature(C)  \\\n",
            "0               2.2              2000                     -17.6   \n",
            "1               0.8              2000                     -17.6   \n",
            "2               1.0              2000                     -17.7   \n",
            "3               0.9              2000                     -17.6   \n",
            "4               2.3              2000                     -18.6   \n",
            "\n",
            "   Solar Radiation (MJ/m2)  Rainfall(mm)  Snowfall (cm) Seasons     Holiday  \\\n",
            "0                      0.0           0.0            0.0  Winter  No Holiday   \n",
            "1                      0.0           0.0            0.0  Winter  No Holiday   \n",
            "2                      0.0           0.0            0.0  Winter  No Holiday   \n",
            "3                      0.0           0.0            0.0  Winter  No Holiday   \n",
            "4                      0.0           0.0            0.0  Winter  No Holiday   \n",
            "\n",
            "  Functioning Day  \n",
            "0             Yes  \n",
            "1             Yes  \n",
            "2             Yes  \n",
            "3             Yes  \n",
            "4             Yes  \n",
            "<class 'pandas.core.frame.DataFrame'>\n",
            "RangeIndex: 8760 entries, 0 to 8759\n",
            "Data columns (total 14 columns):\n",
            " #   Column                    Non-Null Count  Dtype  \n",
            "---  ------                    --------------  -----  \n",
            " 0   Date                      8760 non-null   object \n",
            " 1   Rented Bike Count         8760 non-null   int64  \n",
            " 2   Hour                      8760 non-null   int64  \n",
            " 3   Temperature(C)            8760 non-null   float64\n",
            " 4   Humidity(%)               8760 non-null   int64  \n",
            " 5   Wind speed (m/s)          8760 non-null   float64\n",
            " 6   Visibility (10m)          8760 non-null   int64  \n",
            " 7   Dew point temperature(C)  8760 non-null   float64\n",
            " 8   Solar Radiation (MJ/m2)   8760 non-null   float64\n",
            " 9   Rainfall(mm)              8760 non-null   float64\n",
            " 10  Snowfall (cm)             8760 non-null   float64\n",
            " 11  Seasons                   8760 non-null   object \n",
            " 12  Holiday                   8760 non-null   object \n",
            " 13  Functioning Day           8760 non-null   object \n",
            "dtypes: float64(6), int64(4), object(4)\n",
            "memory usage: 958.2+ KB\n",
            "None\n"
          ]
        }
      ]
    },
    {
      "cell_type": "markdown",
      "source": [
        "## Task 2: Transform Columns\n",
        "\n",
        "Transform your data by removing unneeded columns. Remove all columns except Date, Rented Bike Count, Hour, Temperature(C). Rename Temperature(C) to just Temperature."
      ],
      "metadata": {
        "id": "du1k6xyCASBL"
      }
    },
    {
      "cell_type": "code",
      "source": [
        "seoul_bike_data = seoul_bike_data[['Date', 'Rented Bike Count', 'Hour', 'Temperature(C)']]\n",
        "seoul_bike_data.rename(columns={'Temperature(C)': 'Temperature'}, inplace=True)"
      ],
      "metadata": {
        "id": "4uhRTrNJANed",
        "outputId": "764c45b7-8f2b-4fdf-fede-e0de814d9573",
        "colab": {
          "base_uri": "https://localhost:8080/"
        }
      },
      "execution_count": 4,
      "outputs": [
        {
          "output_type": "stream",
          "name": "stderr",
          "text": [
            "<ipython-input-4-e7ac5d7633e8>:2: SettingWithCopyWarning: \n",
            "A value is trying to be set on a copy of a slice from a DataFrame\n",
            "\n",
            "See the caveats in the documentation: https://pandas.pydata.org/pandas-docs/stable/user_guide/indexing.html#returning-a-view-versus-a-copy\n",
            "  seoul_bike_data.rename(columns={'Temperature(C)': 'Temperature'}, inplace=True)\n"
          ]
        }
      ]
    },
    {
      "cell_type": "markdown",
      "source": [
        "## Task 3: Scatterplot\n",
        "\n",
        "We want to answer \"What happens to the rented bike count as the temperature change?\" Create a simple scatterplot between rented bike count and temperature. Label your axis."
      ],
      "metadata": {
        "id": "tCcpGNfIAwvy"
      }
    },
    {
      "cell_type": "code",
      "source": [
        "import matplotlib.pyplot as plt\n",
        "\n",
        "plt.scatter(seoul_bike_data['Temperature'], seoul_bike_data['Rented Bike Count'])\n",
        "plt.xlabel('Temperature')\n",
        "plt.ylabel('Rented Bike Count')\n",
        "plt.title('Rented Bike Count vs. Temperature')\n",
        "plt.show()\n",
        "\n",
        "\n"
      ],
      "metadata": {
        "id": "EwX7i-aMAtNC",
        "outputId": "37b82d50-ff81-4eeb-d376-f438f160fc86",
        "colab": {
          "base_uri": "https://localhost:8080/",
          "height": 472
        }
      },
      "execution_count": 5,
      "outputs": [
        {
          "output_type": "display_data",
          "data": {
            "text/plain": [
              "<Figure size 640x480 with 1 Axes>"
            ],
            "image/png": "[encoded data removed]"
          },
          "metadata": {}
        }
      ]
    },
    {
      "cell_type": "markdown",
      "source": [
        "## Question 1: What happens to the rented bike count as the temperature change? <br>\n",
        "Put your answer here: As the temperature decreases in the negative values, indicating cold weather conditions, the number of rented bikes tends to decrease. Suggesting that more people prefer to rent bikes during warmer temperatures. However, after a certain temperature threshold, the number of rented bikes may decrease, indicating that extremely hot temperatures might deter people from renting bikes. Conversely, during colder temperatures, fewer people might be inclined to rent bikes. <br>\n",
        "\n",
        "\n",
        "\n",
        "\n",
        "\n"
      ],
      "metadata": {
        "id": "HbVlD1ctBaP7"
      }
    },
    {
      "cell_type": "markdown",
      "source": [
        "## Task 4: Group By\n",
        "\n",
        "Write code that groups the Seoul bike data by hour and sums the rented bike count for each hour. Use the entire dataset and do not filter rows or groupby day. Sort the data by rented bike count from highest sum of rental count to lowest rental count. Print a table that summarizes this data.\n",
        "\n",
        "Hint: Datacamp taught you how to group by, but if you need a refresher search Google for \"pandas groupby aggregate count\"."
      ],
      "metadata": {
        "id": "2KD387pbCApJ"
      }
    },
    {
      "cell_type": "code",
      "source": [
        "hourly_rental_counts = seoul_bike_data.groupby('Hour')['Rented Bike Count'].sum().reset_index()\n",
        "hourly_rental_counts = hourly_rental_counts.sort_values(by='Rented Bike Count', ascending=False)\n"
      ],
      "metadata": {
        "id": "jxSb53JKDNj2"
      },
      "execution_count": 6,
      "outputs": []
    },
    {
      "cell_type": "code",
      "source": [
        "print(hourly_rental_counts.head())"
      ],
      "metadata": {
        "id": "eQbMycvH1afh",
        "outputId": "357e1ea6-d082-44fe-8c34-f629129b138d",
        "colab": {
          "base_uri": "https://localhost:8080/"
        }
      },
      "execution_count": 7,
      "outputs": [
        {
          "output_type": "stream",
          "name": "stdout",
          "text": [
            "    Hour  Rented Bike Count\n",
            "18    18             548568\n",
            "19    19             436229\n",
            "17    17             415556\n",
            "20    20             390172\n",
            "21    21             376479\n"
          ]
        }
      ]
    },
    {
      "cell_type": "markdown",
      "source": [
        "## Question 2: What hours of the day have the highest bike rentals? <br>\n",
        "Enter your answer here: Based on the data, the hours of the day with the highest bike rentals are 18:00 (6:00 PM) with 548,568 rentals, 19:00 (7:00 PM) with 436,229 rentals, 17:00 (5:00 PM) with 415,556 rentals. These times typically represent the evening rush hour when people are commuting back home or going out in the evening, which can explain the high number of bike rentals.  <br>\n",
        "\n",
        "\n"
      ],
      "metadata": {
        "id": "G0VYyVraDP7D"
      }
    },
    {
      "cell_type": "markdown",
      "source": [
        "## Task 5: Read about How to Melt from Wide Format to Long Format\n",
        "The Seoul Korea data is in a long format, e.g. each date/hour is a separate row. Sometimes our data comes in wide format (an example is provide shortly). As data engineers we have need to transform our data between long and wide format using Pandas melt and pivot methods. Long data is often prefered by machine learning tasks. Wide format is sometimes required for a statistical analysis for comparison of how data over time, e.g. how a student improves over time or how a patient loses weight from the start to end of a treatment program.\n",
        "\n",
        "Task 5 is to just read this article on how to melt data from wide format to long format.\n",
        "<https://www.kdnuggets.com/2023/03/beginner-guide-pandas-melt-function.html>"
      ],
      "metadata": {
        "id": "rfH3JyueITL8"
      }
    },
    {
      "cell_type": "markdown",
      "source": [
        "## Task 6: Load and Clean Data\n",
        "\n",
        "Load the NBA data into a pandas dataframe using the URL provided. Inspect the data with .head and .info. Remove any empty data rows. <br>\n",
        "Data Dictionary: <br>\n",
        "NBA Player Name: first and last name of the player<br>\n",
        "2020: count of Twitter messages for that year<br>\n",
        "2021: count of Twitter messages for that year<br>\n",
        "2022: count of Twitter messages for that year<br>\n",
        "2023: count of Twitter messages for that year<br>\n"
      ],
      "metadata": {
        "id": "HG6QImcYNl6D"
      }
    },
    {
      "cell_type": "markdown",
      "source": [],
      "metadata": {
        "id": "O-oRWbwo1pbo"
      }
    },
    {
      "cell_type": "code",
      "source": [
        "\n",
        "nba_player_twitter_count_url = 'https://raw.githubusercontent.com/sean-humpherys/randomfilestorage/main/nba_player_twitter_count_data.csv'\n",
        "\n",
        "nba_data = pd.read_csv(nba_player_twitter_count_url)\n",
        "\n"
      ],
      "metadata": {
        "id": "Il0IWqyNNe5L"
      },
      "execution_count": 8,
      "outputs": []
    },
    {
      "cell_type": "code",
      "source": [
        "nba_data.dropna(inplace=True)"
      ],
      "metadata": {
        "id": "i_fxwHLx1rFd"
      },
      "execution_count": 9,
      "outputs": []
    },
    {
      "cell_type": "markdown",
      "source": [
        "## Task 7: Melt\n",
        "\n",
        "Melt the data from wide format into long format. The long-format dataset will have the columns \"NBA Player Name\", \"Year\", \"Twitter Count\".\n",
        "Print the dataset to showcase your successful transformation.<br>\n",
        "Example: <br>\n",
        "NBA Player Name  Year Twitter Count<br>\n",
        "Russell Westbrook  2020  413<br>\n",
        "Russell Westbrook  2021  2857<br>\n",
        "Russell Westbrook  2022  1156<br>\n",
        "...<br>\n",
        "\n"
      ],
      "metadata": {
        "id": "KF-ATbDNOHUL"
      }
    },
    {
      "cell_type": "code",
      "source": [
        "nba_data_long = pd.melt(nba_data, id_vars=['NBA Player Name'], var_name='Year', value_name='Twitter Count')\n",
        "nba_data_long['Year'] = nba_data_long['Year'].astype(int)\n",
        "\n"
      ],
      "metadata": {
        "id": "q_nPKl2JPTTK"
      },
      "execution_count": 10,
      "outputs": []
    },
    {
      "cell_type": "code",
      "source": [
        "print(nba_data_long.head())"
      ],
      "metadata": {
        "id": "buj7L0kq11db",
        "outputId": "1c0462bb-a53c-4ad0-d445-5c22dc93c9b9",
        "colab": {
          "base_uri": "https://localhost:8080/"
        }
      },
      "execution_count": 11,
      "outputs": [
        {
          "output_type": "stream",
          "name": "stdout",
          "text": [
            "     NBA Player Name  Year  Twitter Count\n",
            "0  Russell Westbrook  2020          413.0\n",
            "1       James Harden  2020         2102.0\n",
            "2      Isaiah Thomas  2020         2253.0\n",
            "3      Anthony Davis  2020         2588.0\n",
            "4      DeMar DeRozan  2020         2146.0\n"
          ]
        }
      ]
    },
    {
      "cell_type": "markdown",
      "source": [
        "## DONE!\n",
        "\n",
        "Upload the url of your notebook to WTclass.\n",
        "\n",
        "## Grading Rubric:  \n",
        "\n",
        "Each task is worth 10%. Each question is worth 15%."
      ],
      "metadata": {
        "id": "oLOgPdAKPhHU"
      }
    }
  ]
}