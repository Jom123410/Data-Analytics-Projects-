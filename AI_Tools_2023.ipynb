{
  "metadata": {
    "kernelspec": {
      "language": "python",
      "display_name": "Python 3",
      "name": "python3"
    },
    "language_info": {
      "pygments_lexer": "ipython3",
      "nbconvert_exporter": "python",
      "version": "3.6.4",
      "file_extension": ".py",
      "codemirror_mode": {
        "name": "ipython",
        "version": 3
      },
      "name": "python",
      "mimetype": "text/x-python"
    },
    "colab": {
      "provenance": [],
      "include_colab_link": true
    },
    "widgets": {
      "application/vnd.jupyter.widget-state+json": {
        "8e6d006755eb439186c4ee377a2613ba": {
          "model_module": "@jupyter-widgets/controls",
          "model_name": "DropdownModel",
          "model_module_version": "1.5.0",
          "state": {
            "_dom_classes": [],
            "_model_module": "@jupyter-widgets/controls",
            "_model_module_version": "1.5.0",
            "_model_name": "DropdownModel",
            "_options_labels": [
              "All",
              "Free",
              "Freemium",
              "Paid"
            ],
            "_view_count": null,
            "_view_module": "@jupyter-widgets/controls",
            "_view_module_version": "1.5.0",
            "_view_name": "DropdownView",
            "description": "Free/Paid",
            "description_tooltip": null,
            "disabled": false,
            "index": 0,
            "layout": "IPY_MODEL_0276d022a0514d7c801ad211763d48cc",
            "style": "IPY_MODEL_78fceba64c6c49aa8d3785115fb9410e"
          }
        },
        "0276d022a0514d7c801ad211763d48cc": {
          "model_module": "@jupyter-widgets/base",
          "model_name": "LayoutModel",
          "model_module_version": "1.2.0",
          "state": {
            "_model_module": "@jupyter-widgets/base",
            "_model_module_version": "1.2.0",
            "_model_name": "LayoutModel",
            "_view_count": null,
            "_view_module": "@jupyter-widgets/base",
            "_view_module_version": "1.2.0",
            "_view_name": "LayoutView",
            "align_content": null,
            "align_items": null,
            "align_self": null,
            "border": null,
            "bottom": null,
            "display": null,
            "flex": null,
            "flex_flow": null,
            "grid_area": null,
            "grid_auto_columns": null,
            "grid_auto_flow": null,
            "grid_auto_rows": null,
            "grid_column": null,
            "grid_gap": null,
            "grid_row": null,
            "grid_template_areas": null,
            "grid_template_columns": null,
            "grid_template_rows": null,
            "height": null,
            "justify_content": null,
            "justify_items": null,
            "left": null,
            "margin": null,
            "max_height": null,
            "max_width": null,
            "min_height": null,
            "min_width": null,
            "object_fit": null,
            "object_position": null,
            "order": null,
            "overflow": null,
            "overflow_x": null,
            "overflow_y": null,
            "padding": null,
            "right": null,
            "top": null,
            "visibility": null,
            "width": null
          }
        },
        "78fceba64c6c49aa8d3785115fb9410e": {
          "model_module": "@jupyter-widgets/controls",
          "model_name": "DescriptionStyleModel",
          "model_module_version": "1.5.0",
          "state": {
            "_model_module": "@jupyter-widgets/controls",
            "_model_module_version": "1.5.0",
            "_model_name": "DescriptionStyleModel",
            "_view_count": null,
            "_view_module": "@jupyter-widgets/base",
            "_view_module_version": "1.2.0",
            "_view_name": "StyleView",
            "description_width": ""
          }
        },
        "bf75f5b8ada84425b57bf433abb1e417": {
          "model_module": "@jupyter-widgets/controls",
          "model_name": "DropdownModel",
          "model_module_version": "1.5.0",
          "state": {
            "_dom_classes": [],
            "_model_module": "@jupyter-widgets/controls",
            "_model_module_version": "1.5.0",
            "_model_name": "DropdownModel",
            "_options_labels": [
              "All",
              "other",
              "text",
              "audio",
              "image",
              "code",
              "3D",
              "business",
              "video"
            ],
            "_view_count": null,
            "_view_module": "@jupyter-widgets/controls",
            "_view_module_version": "1.5.0",
            "_view_name": "DropdownView",
            "description": "Category",
            "description_tooltip": null,
            "disabled": false,
            "index": 0,
            "layout": "IPY_MODEL_d87a3f1501f749669d05ff8a83bba87c",
            "style": "IPY_MODEL_b84b8fc9d3574a3981059a5c2d9df4bb"
          }
        },
        "d87a3f1501f749669d05ff8a83bba87c": {
          "model_module": "@jupyter-widgets/base",
          "model_name": "LayoutModel",
          "model_module_version": "1.2.0",
          "state": {
            "_model_module": "@jupyter-widgets/base",
            "_model_module_version": "1.2.0",
            "_model_name": "LayoutModel",
            "_view_count": null,
            "_view_module": "@jupyter-widgets/base",
            "_view_module_version": "1.2.0",
            "_view_name": "LayoutView",
            "align_content": null,
            "align_items": null,
            "align_self": null,
            "border": null,
            "bottom": null,
            "display": null,
            "flex": null,
            "flex_flow": null,
            "grid_area": null,
            "grid_auto_columns": null,
            "grid_auto_flow": null,
            "grid_auto_rows": null,
            "grid_column": null,
            "grid_gap": null,
            "grid_row": null,
            "grid_template_areas": null,
            "grid_template_columns": null,
            "grid_template_rows": null,
            "height": null,
            "justify_content": null,
            "justify_items": null,
            "left": null,
            "margin": null,
            "max_height": null,
            "max_width": null,
            "min_height": null,
            "min_width": null,
            "object_fit": null,
            "object_position": null,
            "order": null,
            "overflow": null,
            "overflow_x": null,
            "overflow_y": null,
            "padding": null,
            "right": null,
            "top": null,
            "visibility": null,
            "width": null
          }
        },
        "b84b8fc9d3574a3981059a5c2d9df4bb": {
          "model_module": "@jupyter-widgets/controls",
          "model_name": "DescriptionStyleModel",
          "model_module_version": "1.5.0",
          "state": {
            "_model_module": "@jupyter-widgets/controls",
            "_model_module_version": "1.5.0",
            "_model_name": "DescriptionStyleModel",
            "_view_count": null,
            "_view_module": "@jupyter-widgets/base",
            "_view_module_version": "1.2.0",
            "_view_name": "StyleView",
            "description_width": ""
          }
        },
        "447801881169477a9496c1ad4bb2be7c": {
          "model_module": "@jupyter-widgets/controls",
          "model_name": "DropdownModel",
          "model_module_version": "1.5.0",
          "state": {
            "_dom_classes": [],
            "_model_module": "@jupyter-widgets/controls",
            "_model_module_version": "1.5.0",
            "_model_name": "DropdownModel",
            "_options_labels": [
              "None",
              "review",
              "charges_value"
            ],
            "_view_count": null,
            "_view_module": "@jupyter-widgets/controls",
            "_view_module_version": "1.5.0",
            "_view_name": "DropdownView",
            "description": "Sort By:",
            "description_tooltip": null,
            "disabled": false,
            "index": 0,
            "layout": "IPY_MODEL_0fc7bc5b05404aa5922c2433aad52020",
            "style": "IPY_MODEL_be223fcbd27b41029966bd6df7cf3c7e"
          }
        },
        "0fc7bc5b05404aa5922c2433aad52020": {
          "model_module": "@jupyter-widgets/base",
          "model_name": "LayoutModel",
          "model_module_version": "1.2.0",
          "state": {
            "_model_module": "@jupyter-widgets/base",
            "_model_module_version": "1.2.0",
            "_model_name": "LayoutModel",
            "_view_count": null,
            "_view_module": "@jupyter-widgets/base",
            "_view_module_version": "1.2.0",
            "_view_name": "LayoutView",
            "align_content": null,
            "align_items": null,
            "align_self": null,
            "border": null,
            "bottom": null,
            "display": null,
            "flex": null,
            "flex_flow": null,
            "grid_area": null,
            "grid_auto_columns": null,
            "grid_auto_flow": null,
            "grid_auto_rows": null,
            "grid_column": null,
            "grid_gap": null,
            "grid_row": null,
            "grid_template_areas": null,
            "grid_template_columns": null,
            "grid_template_rows": null,
            "height": null,
            "justify_content": null,
            "justify_items": null,
            "left": null,
            "margin": null,
            "max_height": null,
            "max_width": null,
            "min_height": null,
            "min_width": null,
            "object_fit": null,
            "object_position": null,
            "order": null,
            "overflow": null,
            "overflow_x": null,
            "overflow_y": null,
            "padding": null,
            "right": null,
            "top": null,
            "visibility": null,
            "width": null
          }
        },
        "be223fcbd27b41029966bd6df7cf3c7e": {
          "model_module": "@jupyter-widgets/controls",
          "model_name": "DescriptionStyleModel",
          "model_module_version": "1.5.0",
          "state": {
            "_model_module": "@jupyter-widgets/controls",
            "_model_module_version": "1.5.0",
            "_model_name": "DescriptionStyleModel",
            "_view_count": null,
            "_view_module": "@jupyter-widgets/base",
            "_view_module_version": "1.2.0",
            "_view_name": "StyleView",
            "description_width": ""
          }
        },
        "fadc038a06f34b1992a60e349854366c": {
          "model_module": "@jupyter-widgets/controls",
          "model_name": "DropdownModel",
          "model_module_version": "1.5.0",
          "state": {
            "_dom_classes": [],
            "_model_module": "@jupyter-widgets/controls",
            "_model_module_version": "1.5.0",
            "_model_name": "DropdownModel",
            "_options_labels": [
              "None",
              "Ascending",
              "Descending"
            ],
            "_view_count": null,
            "_view_module": "@jupyter-widgets/controls",
            "_view_module_version": "1.5.0",
            "_view_name": "DropdownView",
            "description": "Order:",
            "description_tooltip": null,
            "disabled": false,
            "index": 0,
            "layout": "IPY_MODEL_7745b372973c45a39d1da303dd4f392d",
            "style": "IPY_MODEL_8742e4c929e74af8868f91e243e316d1"
          }
        },
        "7745b372973c45a39d1da303dd4f392d": {
          "model_module": "@jupyter-widgets/base",
          "model_name": "LayoutModel",
          "model_module_version": "1.2.0",
          "state": {
            "_model_module": "@jupyter-widgets/base",
            "_model_module_version": "1.2.0",
            "_model_name": "LayoutModel",
            "_view_count": null,
            "_view_module": "@jupyter-widgets/base",
            "_view_module_version": "1.2.0",
            "_view_name": "LayoutView",
            "align_content": null,
            "align_items": null,
            "align_self": null,
            "border": null,
            "bottom": null,
            "display": null,
            "flex": null,
            "flex_flow": null,
            "grid_area": null,
            "grid_auto_columns": null,
            "grid_auto_flow": null,
            "grid_auto_rows": null,
            "grid_column": null,
            "grid_gap": null,
            "grid_row": null,
            "grid_template_areas": null,
            "grid_template_columns": null,
            "grid_template_rows": null,
            "height": null,
            "justify_content": null,
            "justify_items": null,
            "left": null,
            "margin": null,
            "max_height": null,
            "max_width": null,
            "min_height": null,
            "min_width": null,
            "object_fit": null,
            "object_position": null,
            "order": null,
            "overflow": null,
            "overflow_x": null,
            "overflow_y": null,
            "padding": null,
            "right": null,
            "top": null,
            "visibility": null,
            "width": null
          }
        },
        "8742e4c929e74af8868f91e243e316d1": {
          "model_module": "@jupyter-widgets/controls",
          "model_name": "DescriptionStyleModel",
          "model_module_version": "1.5.0",
          "state": {
            "_model_module": "@jupyter-widgets/controls",
            "_model_module_version": "1.5.0",
            "_model_name": "DescriptionStyleModel",
            "_view_count": null,
            "_view_module": "@jupyter-widgets/base",
            "_view_module_version": "1.2.0",
            "_view_name": "StyleView",
            "description_width": ""
          }
        },
        "a1b598b716874e028f08207f2147b864": {
          "model_module": "@jupyter-widgets/output",
          "model_name": "OutputModel",
          "model_module_version": "1.0.0",
          "state": {
            "_dom_classes": [],
            "_model_module": "@jupyter-widgets/output",
            "_model_module_version": "1.0.0",
            "_model_name": "OutputModel",
            "_view_count": null,
            "_view_module": "@jupyter-widgets/output",
            "_view_module_version": "1.0.0",
            "_view_name": "OutputView",
            "layout": "IPY_MODEL_e7cab4a6bff64606b799f6c378397e1b",
            "msg_id": "",
            "outputs": [
              {
                "output_type": "display_data",
                "data": {
                  "text/plain": "        ai_tool_name                                        description  \\\n0             Farm3D  Learning Articulated 3D Animals by Distilling ...   \n1      Mailbutler Ai  AI-powered Smart Assistant for Outlook, Gmail ...   \n2          Maverick      Send customers personalized videos at scale.     \n3               0Xai      Stable Diffusion Prompt And Images Generator    \n4              10Web  AI-powered WordPress platform for automated we...   \n...              ...                                                ...   \n4964         Zoom Iq  Capture meaningful and actionable insights fro...   \n4965    Zoomscape Ai  ZoomScape AI is an AI-powered tool that enable...   \n4966         Zust Qr  Enables users to craft artistic QR codes by in...   \n4967            Zuva          Contract analysis and insight generation.   \n4968            Zyng  Generation of promotional images without desig...   \n\n     free_paid_other                          useable_for    charges  review  \\\n0               Free                / experiments    / 3D        NaN    -1.0   \n1           Freemium                    / email assistant  $ 4.95/mo     1.0   \n2               Paid      / e-commerce    / audio editing   $ 100/mo    -1.0   \n3               Free       / image generator    / prompts        NaN    -1.0   \n4           Freemium                   / low-code/no-code        NaN    -1.0   \n...              ...                                  ...        ...     ...   \n4964            Paid    / summarizer    / email assistant        NaN     2.0   \n4965        Freemium                      / presentations        $5     -1.0   \n4966            Free                    / image generator        NaN    -1.0   \n4967        Freemium                    / legal assistant    $ 50/mo     1.0   \n4968            Free    / e-commerce    / image generator        NaN    -1.0   \n\n                                              tool_link major_category  \\\n0     https://farm3d.github.io/?utm_source=futureped...          other   \n1     https://www.mailbutler.io/smart-assistant/?utm...           text   \n2     https://www.trymaverick.com/?utm_source=future...          audio   \n3     https://0xai.quest?utm_source=futurepedia&utm_...          image   \n4     https://10web.io/?utm_source=futurepedia&utm_m...           code   \n...                                                 ...            ...   \n4964  https://blog.zoom.us/zoom-iq-smart-companion/?...           text   \n4965  https://zoomscape.ai/?utm_source=futurepedia&u...       business   \n4966  https://qr.zust.ai/?utm_source=futurepedia&utm...          image   \n4967  https://zuva.ai/widget/try-it/?utm_source=futu...       business   \n4968  https://www.zyngai.com/?utm_source=futurepedia...          image   \n\n      charges_value charges_unit price_bins  \n0              0.00         None        NaN  \n1              4.95          /mo       0-50  \n2            100.00          /mo     51-100  \n3              0.00         None        NaN  \n4               NaN         None        NaN  \n...             ...          ...        ...  \n4964            NaN         None        NaN  \n4965            NaN         None        NaN  \n4966           0.00         None        NaN  \n4967          50.00          /mo       0-50  \n4968           0.00         None        NaN  \n\n[4969 rows x 11 columns]",
                  "text/html": "\n  <div id=\"df-5fdd5960-3719-4e8c-94dc-45a10bccbd7a\" class=\"colab-df-container\">\n    <div>\n<style scoped>\n    .dataframe tbody tr th:only-of-type {\n        vertical-align: middle;\n    }\n\n    .dataframe tbody tr th {\n        vertical-align: top;\n    }\n\n    .dataframe thead th {\n        text-align: right;\n    }\n</style>\n<table border=\"1\" class=\"dataframe\">\n  <thead>\n    <tr style=\"text-align: right;\">\n      <th></th>\n      <th>ai_tool_name</th>\n      <th>description</th>\n      <th>free_paid_other</th>\n      <th>useable_for</th>\n      <th>charges</th>\n      <th>review</th>\n      <th>tool_link</th>\n      <th>major_category</th>\n      <th>charges_value</th>\n      <th>charges_unit</th>\n      <th>price_bins</th>\n    </tr>\n  </thead>\n  <tbody>\n    <tr>\n      <th>0</th>\n      <td>Farm3D</td>\n      <td>Learning Articulated 3D Animals by Distilling ...</td>\n      <td>Free</td>\n      <td>/ experiments    / 3D</td>\n      <td>NaN</td>\n      <td>-1.0</td>\n      <td>https://farm3d.github.io/?utm_source=futureped...</td>\n      <td>other</td>\n      <td>0.00</td>\n      <td>None</td>\n      <td>NaN</td>\n    </tr>\n    <tr>\n      <th>1</th>\n      <td>Mailbutler Ai</td>\n      <td>AI-powered Smart Assistant for Outlook, Gmail ...</td>\n      <td>Freemium</td>\n      <td>/ email assistant</td>\n      <td>$ 4.95/mo</td>\n      <td>1.0</td>\n      <td>https://www.mailbutler.io/smart-assistant/?utm...</td>\n      <td>text</td>\n      <td>4.95</td>\n      <td>/mo</td>\n      <td>0-50</td>\n    </tr>\n    <tr>\n      <th>2</th>\n      <td>Maverick</td>\n      <td>Send customers personalized videos at scale.</td>\n      <td>Paid</td>\n      <td>/ e-commerce    / audio editing</td>\n      <td>$ 100/mo</td>\n      <td>-1.0</td>\n      <td>https://www.trymaverick.com/?utm_source=future...</td>\n      <td>audio</td>\n      <td>100.00</td>\n      <td>/mo</td>\n      <td>51-100</td>\n    </tr>\n    <tr>\n      <th>3</th>\n      <td>0Xai</td>\n      <td>Stable Diffusion Prompt And Images Generator</td>\n      <td>Free</td>\n      <td>/ image generator    / prompts</td>\n      <td>NaN</td>\n      <td>-1.0</td>\n      <td>https://0xai.quest?utm_source=futurepedia&amp;utm_...</td>\n      <td>image</td>\n      <td>0.00</td>\n      <td>None</td>\n      <td>NaN</td>\n    </tr>\n    <tr>\n      <th>4</th>\n      <td>10Web</td>\n      <td>AI-powered WordPress platform for automated we...</td>\n      <td>Freemium</td>\n      <td>/ low-code/no-code</td>\n      <td>NaN</td>\n      <td>-1.0</td>\n      <td>https://10web.io/?utm_source=futurepedia&amp;utm_m...</td>\n      <td>code</td>\n      <td>NaN</td>\n      <td>None</td>\n      <td>NaN</td>\n    </tr>\n    <tr>\n      <th>...</th>\n      <td>...</td>\n      <td>...</td>\n      <td>...</td>\n      <td>...</td>\n      <td>...</td>\n      <td>...</td>\n      <td>...</td>\n      <td>...</td>\n      <td>...</td>\n      <td>...</td>\n      <td>...</td>\n    </tr>\n    <tr>\n      <th>4964</th>\n      <td>Zoom Iq</td>\n      <td>Capture meaningful and actionable insights fro...</td>\n      <td>Paid</td>\n      <td>/ summarizer    / email assistant</td>\n      <td>NaN</td>\n      <td>2.0</td>\n      <td>https://blog.zoom.us/zoom-iq-smart-companion/?...</td>\n      <td>text</td>\n      <td>NaN</td>\n      <td>None</td>\n      <td>NaN</td>\n    </tr>\n    <tr>\n      <th>4965</th>\n      <td>Zoomscape Ai</td>\n      <td>ZoomScape AI is an AI-powered tool that enable...</td>\n      <td>Freemium</td>\n      <td>/ presentations</td>\n      <td>$5</td>\n      <td>-1.0</td>\n      <td>https://zoomscape.ai/?utm_source=futurepedia&amp;u...</td>\n      <td>business</td>\n      <td>NaN</td>\n      <td>None</td>\n      <td>NaN</td>\n    </tr>\n    <tr>\n      <th>4966</th>\n      <td>Zust Qr</td>\n      <td>Enables users to craft artistic QR codes by in...</td>\n      <td>Free</td>\n      <td>/ image generator</td>\n      <td>NaN</td>\n      <td>-1.0</td>\n      <td>https://qr.zust.ai/?utm_source=futurepedia&amp;utm...</td>\n      <td>image</td>\n      <td>0.00</td>\n      <td>None</td>\n      <td>NaN</td>\n    </tr>\n    <tr>\n      <th>4967</th>\n      <td>Zuva</td>\n      <td>Contract analysis and insight generation.</td>\n      <td>Freemium</td>\n      <td>/ legal assistant</td>\n      <td>$ 50/mo</td>\n      <td>1.0</td>\n      <td>https://zuva.ai/widget/try-it/?utm_source=futu...</td>\n      <td>business</td>\n      <td>50.00</td>\n      <td>/mo</td>\n      <td>0-50</td>\n    </tr>\n    <tr>\n      <th>4968</th>\n      <td>Zyng</td>\n      <td>Generation of promotional images without desig...</td>\n      <td>Free</td>\n      <td>/ e-commerce    / image generator</td>\n      <td>NaN</td>\n      <td>-1.0</td>\n      <td>https://www.zyngai.com/?utm_source=futurepedia...</td>\n      <td>image</td>\n      <td>0.00</td>\n      <td>None</td>\n      <td>NaN</td>\n    </tr>\n  </tbody>\n</table>\n<p>4969 rows × 11 columns</p>\n</div>\n    <div class=\"colab-df-buttons\">\n\n  <div class=\"colab-df-container\">\n    <button class=\"colab-df-convert\" onclick=\"convertToInteractive('df-5fdd5960-3719-4e8c-94dc-45a10bccbd7a')\"\n            title=\"Convert this dataframe to an interactive table.\"\n            style=\"display:none;\">\n\n  <svg xmlns=\"http://www.w3.org/2000/svg\" height=\"24px\" viewBox=\"0 -960 960 960\">\n    <path d=\"M120-120v-720h720v720H120Zm60-500h600v-160H180v160Zm220 220h160v-160H400v160Zm0 220h160v-160H400v160ZM180-400h160v-160H180v160Zm440 0h160v-160H620v160ZM180-180h160v-160H180v160Zm440 0h160v-160H620v160Z\"/>\n  </svg>\n    </button>\n\n  <style>\n    .colab-df-container {\n      display:flex;\n      gap: 12px;\n    }\n\n    .colab-df-convert {\n      background-color: #E8F0FE;\n      border: none;\n      border-radius: 50%;\n      cursor: pointer;\n      display: none;\n      fill: #1967D2;\n      height: 32px;\n      padding: 0 0 0 0;\n      width: 32px;\n    }\n\n    .colab-df-convert:hover {\n      background-color: #E2EBFA;\n      box-shadow: 0px 1px 2px rgba(60, 64, 67, 0.3), 0px 1px 3px 1px rgba(60, 64, 67, 0.15);\n      fill: #174EA6;\n    }\n\n    .colab-df-buttons div {\n      margin-bottom: 4px;\n    }\n\n    [theme=dark] .colab-df-convert {\n      background-color: #3B4455;\n      fill: #D2E3FC;\n    }\n\n    [theme=dark] .colab-df-convert:hover {\n      background-color: #434B5C;\n      box-shadow: 0px 1px 3px 1px rgba(0, 0, 0, 0.15);\n      filter: drop-shadow(0px 1px 2px rgba(0, 0, 0, 0.3));\n      fill: #FFFFFF;\n    }\n  </style>\n\n    <script>\n      const buttonEl =\n        document.querySelector('#df-5fdd5960-3719-4e8c-94dc-45a10bccbd7a button.colab-df-convert');\n      buttonEl.style.display =\n        google.colab.kernel.accessAllowed ? 'block' : 'none';\n\n      async function convertToInteractive(key) {\n        const element = document.querySelector('#df-5fdd5960-3719-4e8c-94dc-45a10bccbd7a');\n        const dataTable =\n          await google.colab.kernel.invokeFunction('convertToInteractive',\n                                                    [key], {});\n        if (!dataTable) return;\n\n        const docLinkHtml = 'Like what you see? Visit the ' +\n          '<a target=\"_blank\" href=https://colab.research.google.com/notebooks/data_table.ipynb>data table notebook</a>'\n          + ' to learn more about interactive tables.';\n        element.innerHTML = '';\n        dataTable['output_type'] = 'display_data';\n        await google.colab.output.renderOutput(dataTable, element);\n        const docLink = document.createElement('div');\n        docLink.innerHTML = docLinkHtml;\n        element.appendChild(docLink);\n      }\n    </script>\n  </div>\n\n\n<div id=\"df-83c1cc1a-cedc-4016-8e13-b72934f27a4f\">\n  <button class=\"colab-df-quickchart\" onclick=\"quickchart('df-83c1cc1a-cedc-4016-8e13-b72934f27a4f')\"\n            title=\"Suggest charts\"\n            style=\"display:none;\">\n\n<svg xmlns=\"http://www.w3.org/2000/svg\" height=\"24px\"viewBox=\"0 0 24 24\"\n     width=\"24px\">\n    <g>\n        <path d=\"M19 3H5c-1.1 0-2 .9-2 2v14c0 1.1.9 2 2 2h14c1.1 0 2-.9 2-2V5c0-1.1-.9-2-2-2zM9 17H7v-7h2v7zm4 0h-2V7h2v10zm4 0h-2v-4h2v4z\"/>\n    </g>\n</svg>\n  </button>\n\n<style>\n  .colab-df-quickchart {\n      --bg-color: #E8F0FE;\n      --fill-color: #1967D2;\n      --hover-bg-color: #E2EBFA;\n      --hover-fill-color: #174EA6;\n      --disabled-fill-color: #AAA;\n      --disabled-bg-color: #DDD;\n  }\n\n  [theme=dark] .colab-df-quickchart {\n      --bg-color: #3B4455;\n      --fill-color: #D2E3FC;\n      --hover-bg-color: #434B5C;\n      --hover-fill-color: #FFFFFF;\n      --disabled-bg-color: #3B4455;\n      --disabled-fill-color: #666;\n  }\n\n  .colab-df-quickchart {\n    background-color: var(--bg-color);\n    border: none;\n    border-radius: 50%;\n    cursor: pointer;\n    display: none;\n    fill: var(--fill-color);\n    height: 32px;\n    padding: 0;\n    width: 32px;\n  }\n\n  .colab-df-quickchart:hover {\n    background-color: var(--hover-bg-color);\n    box-shadow: 0 1px 2px rgba(60, 64, 67, 0.3), 0 1px 3px 1px rgba(60, 64, 67, 0.15);\n    fill: var(--button-hover-fill-color);\n  }\n\n  .colab-df-quickchart-complete:disabled,\n  .colab-df-quickchart-complete:disabled:hover {\n    background-color: var(--disabled-bg-color);\n    fill: var(--disabled-fill-color);\n    box-shadow: none;\n  }\n\n  .colab-df-spinner {\n    border: 2px solid var(--fill-color);\n    border-color: transparent;\n    border-bottom-color: var(--fill-color);\n    animation:\n      spin 1s steps(1) infinite;\n  }\n\n  @keyframes spin {\n    0% {\n      border-color: transparent;\n      border-bottom-color: var(--fill-color);\n      border-left-color: var(--fill-color);\n    }\n    20% {\n      border-color: transparent;\n      border-left-color: var(--fill-color);\n      border-top-color: var(--fill-color);\n    }\n    30% {\n      border-color: transparent;\n      border-left-color: var(--fill-color);\n      border-top-color: var(--fill-color);\n      border-right-color: var(--fill-color);\n    }\n    40% {\n      border-color: transparent;\n      border-right-color: var(--fill-color);\n      border-top-color: var(--fill-color);\n    }\n    60% {\n      border-color: transparent;\n      border-right-color: var(--fill-color);\n    }\n    80% {\n      border-color: transparent;\n      border-right-color: var(--fill-color);\n      border-bottom-color: var(--fill-color);\n    }\n    90% {\n      border-color: transparent;\n      border-bottom-color: var(--fill-color);\n    }\n  }\n</style>\n\n  <script>\n    async function quickchart(key) {\n      const quickchartButtonEl =\n        document.querySelector('#' + key + ' button');\n      quickchartButtonEl.disabled = true;  // To prevent multiple clicks.\n      quickchartButtonEl.classList.add('colab-df-spinner');\n      try {\n        const charts = await google.colab.kernel.invokeFunction(\n            'suggestCharts', [key], {});\n      } catch (error) {\n        console.error('Error during call to suggestCharts:', error);\n      }\n      quickchartButtonEl.classList.remove('colab-df-spinner');\n      quickchartButtonEl.classList.add('colab-df-quickchart-complete');\n    }\n    (() => {\n      let quickchartButtonEl =\n        document.querySelector('#df-83c1cc1a-cedc-4016-8e13-b72934f27a4f button');\n      quickchartButtonEl.style.display =\n        google.colab.kernel.accessAllowed ? 'block' : 'none';\n    })();\n  </script>\n</div>\n\n    </div>\n  </div>\n",
                  "application/vnd.google.colaboratory.intrinsic+json": {
                    "type": "dataframe",
                    "summary": "{\n  \"name\": \"data_filter = DataFilter(df, filter_cols, sort_cols)\",\n  \"rows\": 4969,\n  \"fields\": [\n    {\n      \"column\": \"ai_tool_name\",\n      \"properties\": {\n        \"dtype\": \"string\",\n        \"num_unique_values\": 4969,\n        \"samples\": [\n          \"Chatfans\",\n          \"Review Rocket\",\n          \"Veed.Io\"\n        ],\n        \"semantic_type\": \"\",\n        \"description\": \"\"\n      }\n    },\n    {\n      \"column\": \"description\",\n      \"properties\": {\n        \"dtype\": \"string\",\n        \"num_unique_values\": 4965,\n        \"samples\": [\n          \"Easily create hyper-personalized emails\",\n          \"Create perfect images instantly with Artssy AI.\",\n          \"Easy social media content creation.\"\n        ],\n        \"semantic_type\": \"\",\n        \"description\": \"\"\n      }\n    },\n    {\n      \"column\": \"free_paid_other\",\n      \"properties\": {\n        \"dtype\": \"category\",\n        \"num_unique_values\": 3,\n        \"samples\": [\n          \"Free\",\n          \"Freemium\",\n          \"Paid\"\n        ],\n        \"semantic_type\": \"\",\n        \"description\": \"\"\n      }\n    },\n    {\n      \"column\": \"useable_for\",\n      \"properties\": {\n        \"dtype\": \"category\",\n        \"num_unique_values\": 526,\n        \"samples\": [\n          \"  / startup tools    / fun tools\",\n          \"  / finance    / code assistant\",\n          \"  / 3D\"\n        ],\n        \"semantic_type\": \"\",\n        \"description\": \"\"\n      }\n    },\n    {\n      \"column\": \"charges\",\n      \"properties\": {\n        \"dtype\": \"category\",\n        \"num_unique_values\": 557,\n        \"samples\": [\n          \"$7.99 \",\n          \"$ 32.5/mo\",\n          \"$30 \"\n        ],\n        \"semantic_type\": \"\",\n        \"description\": \"\"\n      }\n    },\n    {\n      \"column\": \"review\",\n      \"properties\": {\n        \"dtype\": \"number\",\n        \"std\": 1.5197184921571674,\n        \"min\": -1.0,\n        \"max\": 10.0,\n        \"num_unique_values\": 11,\n        \"samples\": [\n          4.0,\n          -1.0,\n          5.0\n        ],\n        \"semantic_type\": \"\",\n        \"description\": \"\"\n      }\n    },\n    {\n      \"column\": \"tool_link\",\n      \"properties\": {\n        \"dtype\": \"string\",\n        \"num_unique_values\": 4959,\n        \"samples\": [\n          \"https://personagen.app?utm_source=futurepedia&utm_medium=marketplace&utm_campaign=futurepedia\",\n          \"https://show.intellinode.ai/?utm_source=futurepedia&utm_medium=marketplace&utm_campaign=futurepedia#?ref=theresanaiforthat\",\n          \"https://www.digimarkai.com/?utm_source=futurepedia&utm_medium=marketplace&utm_campaign=futurepedia\"\n        ],\n        \"semantic_type\": \"\",\n        \"description\": \"\"\n      }\n    },\n    {\n      \"column\": \"major_category\",\n      \"properties\": {\n        \"dtype\": \"category\",\n        \"num_unique_values\": 8,\n        \"samples\": [\n          \"text\",\n          \"3D\",\n          \"other\"\n        ],\n        \"semantic_type\": \"\",\n        \"description\": \"\"\n      }\n    },\n    {\n      \"column\": \"charges_value\",\n      \"properties\": {\n        \"dtype\": \"number\",\n        \"std\": 149.74576988425963,\n        \"min\": 0.0,\n        \"max\": 6597.0,\n        \"num_unique_values\": 275,\n        \"samples\": [\n          4.9,\n          58.0,\n          397.0\n        ],\n        \"semantic_type\": \"\",\n        \"description\": \"\"\n      }\n    },\n    {\n      \"column\": \"charges_unit\",\n      \"properties\": {\n        \"dtype\": \"category\",\n        \"num_unique_values\": 29,\n        \"samples\": [\n          \"/minute\",\n          \"per\",\n          \"/credit\"\n        ],\n        \"semantic_type\": \"\",\n        \"description\": \"\"\n      }\n    },\n    {\n      \"column\": \"price_bins\",\n      \"properties\": {\n        \"dtype\": \"category\",\n        \"num_unique_values\": 4,\n        \"samples\": [\n          \"51-100\",\n          \"200+\",\n          \"0-50\"\n        ],\n        \"semantic_type\": \"\",\n        \"description\": \"\"\n      }\n    }\n  ]\n}"
                  }
                },
                "metadata": {}
              }
            ]
          }
        },
        "e7cab4a6bff64606b799f6c378397e1b": {
          "model_module": "@jupyter-widgets/base",
          "model_name": "LayoutModel",
          "model_module_version": "1.2.0",
          "state": {
            "_model_module": "@jupyter-widgets/base",
            "_model_module_version": "1.2.0",
            "_model_name": "LayoutModel",
            "_view_count": null,
            "_view_module": "@jupyter-widgets/base",
            "_view_module_version": "1.2.0",
            "_view_name": "LayoutView",
            "align_content": null,
            "align_items": null,
            "align_self": null,
            "border": null,
            "bottom": null,
            "display": null,
            "flex": null,
            "flex_flow": null,
            "grid_area": null,
            "grid_auto_columns": null,
            "grid_auto_flow": null,
            "grid_auto_rows": null,
            "grid_column": null,
            "grid_gap": null,
            "grid_row": null,
            "grid_template_areas": null,
            "grid_template_columns": null,
            "grid_template_rows": null,
            "height": null,
            "justify_content": null,
            "justify_items": null,
            "left": null,
            "margin": null,
            "max_height": null,
            "max_width": null,
            "min_height": null,
            "min_width": null,
            "object_fit": null,
            "object_position": null,
            "order": null,
            "overflow": null,
            "overflow_x": null,
            "overflow_y": null,
            "padding": null,
            "right": null,
            "top": null,
            "visibility": null,
            "width": null
          }
        }
      }
    }
  },
  "nbformat_minor": 0,
  "nbformat": 4,
  "cells": [
    {
      "cell_type": "markdown",
      "metadata": {
        "id": "view-in-github",
        "colab_type": "text"
      },
      "source": [
        "<a href=\"https://colab.research.google.com/github/Jom123410/Data-Analytics-Projects-/blob/main/AI_Tools_2023.ipynb\" target=\"_parent\"><img src=\"https://colab.research.google.com/assets/colab-badge.svg\" alt=\"Open In Colab\"/></a>"
      ]
    },
    {
      "cell_type": "markdown",
      "source": [
        "#Introduction\n",
        "AI Tools 2023,\" an insightful exploration into the landscape of artificial intelligence technologies that are shaping the future. As we stand on the brink of a new era in innovation, this notebook serves as a comprehensive guide to the most impactful AI tools and platforms that emerged or significantly evolved in 2023. Our journey through this notebook will uncover the capabilities, applications, and transformative potential of these tools across various industries.\n",
        "\n",
        "##Objectives\n",
        "Overview of Emerging AI Tools: Present a curated list of the latest AI tools that have made a mark in 2023, detailing their functionalities, innovations, and unique offerings.\n",
        "Sector-specific Analysis: Dive into how these tools are revolutionizing sectors such as healthcare, finance, education, and creative industries, among others.\n",
        "Technical Evaluation: Examine the underlying technologies driving these AI tools, including advancements in machine learning algorithms, natural language processing, computer vision, and more.\n",
        "Future Implications: Discuss the potential future developments in AI tools and their anticipated impact on society, ethical considerations, and the global economy.\n",
        "\n",
        "##Methodology\n",
        "This notebook leverages a variety of data sources, including industry reports, academic papers, and direct interactions with AI platforms, to provide a thorough analysis. Through a combination of descriptive analytics, case studies, and expert insights, we aim to offer a well-rounded perspective on each AI tool featured.\n",
        "\n",
        "#Data Compilation\n",
        "Assembling a comprehensive database of AI tools launched or significantly updated in 2023.\n",
        "Feature Analysis: Detailing the features, capabilities, and innovations that set these tools apart.\n",
        "Comparative Insights: Drawing comparisons between tools within the same category to highlight their unique positions in the market.\n",
        "Predictive Outlook: Speculating on future trends in AI tool development based on current trajectories and emerging technologies.\n",
        "\n",
        "#Significance\n",
        "The pace of innovation in AI tools is unprecedented, profoundly affecting how we work, learn, create, and interact. This notebook aims to not only catalog these advancements but also to provide a framework for understanding their broader implications. For entrepreneurs, developers, researchers, and enthusiasts, \"AI Tools 2023\" offers valuable insights into the current state of AI and a glimpse into the future of technology.\n",
        "\n",
        "By the end of this exploration, you will have a comprehensive understanding of the AI tools landscape in 2023, equipped with knowledge about their practical applications, technological foundations, and potential for future innovation. Join us as we navigate through the cutting-edge tools that are defining the next wave of AI advancements.\n",
        "\n"
      ],
      "metadata": {
        "id": "DZcDgyJKWbh0"
      }
    },
    {
      "source": [
        "\n",
        "\n",
        "import os\n",
        "import sys\n",
        "from tempfile import NamedTemporaryFile\n",
        "from urllib.request import urlopen\n",
        "from urllib.parse import unquote, urlparse\n",
        "from urllib.error import HTTPError\n",
        "from zipfile import ZipFile\n",
        "import tarfile\n",
        "import shutil\n",
        "\n",
        "\n"
      ],
      "metadata": {
        "id": "dA-IYPlpS4V0",
        "outputId": "08688416-8cb1-4fd6-fbff-012d7bf0a4cc",
        "colab": {
          "base_uri": "https://localhost:8080/"
        }
      },
      "cell_type": "code",
      "outputs": [
        {
          "output_type": "stream",
          "name": "stdout",
          "text": [
            "Downloading ai-5000-tools-2023, 256248 bytes compressed\n",
            "[==================================================] 256248 bytes downloaded\n",
            "Downloaded and uncompressed: ai-5000-tools-2023\n",
            "Data source import complete.\n"
          ]
        }
      ],
      "execution_count": null
    },
    {
      "cell_type": "code",
      "source": [
        "import numpy as np\n",
        "import pandas as pd\n",
        "import os\n",
        "for dirname, _, filenames in os.walk('/kaggle/input'):\n",
        "    for filename in filenames:\n",
        "        print(os.path.join(dirname, filename))"
      ],
      "metadata": {
        "_uuid": "8f2839f25d086af736a60e9eeb907d3b93b6e0e5",
        "_cell_guid": "b1076dfc-b9ad-4769-8c92-a6c4dae69d19",
        "execution": {
          "iopub.status.busy": "2023-09-23T16:19:39.74181Z",
          "iopub.execute_input": "2023-09-23T16:19:39.74224Z",
          "iopub.status.idle": "2023-09-23T16:19:39.751647Z",
          "shell.execute_reply.started": "2023-09-23T16:19:39.742208Z",
          "shell.execute_reply": "2023-09-23T16:19:39.750377Z"
        },
        "trusted": true,
        "id": "Txc-xzlgS4V3",
        "outputId": "78def7bc-3b93-490b-e17f-3c78439f315f",
        "colab": {
          "base_uri": "https://localhost:8080/"
        }
      },
      "execution_count": null,
      "outputs": [
        {
          "output_type": "stream",
          "name": "stdout",
          "text": [
            "/kaggle/input/ai-5000-tools-2023/all_ai_tool.csv\n"
          ]
        }
      ]
    },
    {
      "cell_type": "code",
      "source": [
        "data = pd.read_csv(\"/content/all_ai_tool.csv\")"
      ],
      "metadata": {
        "execution": {
          "iopub.status.busy": "2023-09-23T16:19:39.767793Z",
          "iopub.execute_input": "2023-09-23T16:19:39.768475Z",
          "iopub.status.idle": "2023-09-23T16:19:39.803541Z",
          "shell.execute_reply.started": "2023-09-23T16:19:39.768439Z",
          "shell.execute_reply": "2023-09-23T16:19:39.802362Z"
        },
        "trusted": true,
        "id": "NypGBuhPS4V4"
      },
      "execution_count": null,
      "outputs": []
    },
    {
      "cell_type": "markdown",
      "source": [
        "Data Fields:\n",
        "\n",
        "- AI Tool Name: The name of the AI tool or software.\n",
        "- Description: A brief description of the tool's features and capabilities.\n",
        "- Free/Paid/Other: Indicates whether the tool is available for free, has a paid subscription model, or falls under another pricing category.\n",
        "- Useable For: Describes the primary use cases or applications for which the AI tool is suitable.\n",
        "- Charges: Specifies the cost or pricing structure associated with the tool (if applicable).\n",
        "- Review: User-generated reviews and ratings to provide insights into the tool's performance and user satisfaction.\n",
        "- Tool Link: URL or link to access the AI tool's official website or download page.\n",
        "- Major Category: Categorizes the AI tools into broader domains or categories, such as natural language processing (NLP), computer vision, data analytics, and more."
      ],
      "metadata": {
        "id": "FinweibAS4V4"
      }
    },
    {
      "cell_type": "code",
      "source": [
        "data.head()"
      ],
      "metadata": {
        "execution": {
          "iopub.status.busy": "2023-09-23T16:19:39.813184Z",
          "iopub.execute_input": "2023-09-23T16:19:39.813561Z",
          "iopub.status.idle": "2023-09-23T16:19:39.829581Z",
          "shell.execute_reply.started": "2023-09-23T16:19:39.81353Z",
          "shell.execute_reply": "2023-09-23T16:19:39.828299Z"
        },
        "trusted": true,
        "id": "XRstXlvhS4V5",
        "outputId": "a1cdf20f-989b-408e-d323-fbf96e7a33fa",
        "colab": {
          "base_uri": "https://localhost:8080/",
          "height": 206
        }
      },
      "execution_count": null,
      "outputs": [
        {
          "output_type": "execute_result",
          "data": {
            "text/plain": [
              "     AI Tool Name                                        Description  \\\n",
              "0          Farm3D  Learning Articulated 3D Animals by Distilling ...   \n",
              "1   Mailbutler Ai  AI-powered Smart Assistant for Outlook, Gmail ...   \n",
              "2       Maverick      Send customers personalized videos at scale.     \n",
              "3            0Xai      Stable Diffusion Prompt And Images Generator    \n",
              "4           10Web  AI-powered WordPress platform for automated we...   \n",
              "\n",
              "  Free/Paid/Other                        Useable For    Charges Review  \\\n",
              "0            Free              / experiments    / 3D        NaN    NaN   \n",
              "1        Freemium                  / email assistant  $ 4.95/mo      1   \n",
              "2            Paid    / e-commerce    / audio editing   $ 100/mo    NaN   \n",
              "3            Free     / image generator    / prompts        NaN    NaN   \n",
              "4        Freemium                 / low-code/no-code        NaN    NaN   \n",
              "\n",
              "                                           Tool Link Major Category  \n",
              "0  https://farm3d.github.io/?utm_source=futureped...          other  \n",
              "1  https://www.mailbutler.io/smart-assistant/?utm...           text  \n",
              "2  https://www.trymaverick.com/?utm_source=future...          audio  \n",
              "3  https://0xai.quest?utm_source=futurepedia&utm_...          image  \n",
              "4  https://10web.io/?utm_source=futurepedia&utm_m...           code  "
            ],
            "text/html": [
              "\n",
              "  <div id=\"df-f008a1a6-dc37-4a30-aecf-5a583426d8a3\" class=\"colab-df-container\">\n",
              "    <div>\n",
              "<style scoped>\n",
              "    .dataframe tbody tr th:only-of-type {\n",
              "        vertical-align: middle;\n",
              "    }\n",
              "\n",
              "    .dataframe tbody tr th {\n",
              "        vertical-align: top;\n",
              "    }\n",
              "\n",
              "    .dataframe thead th {\n",
              "        text-align: right;\n",
              "    }\n",
              "</style>\n",
              "<table border=\"1\" class=\"dataframe\">\n",
              "  <thead>\n",
              "    <tr style=\"text-align: right;\">\n",
              "      <th></th>\n",
              "      <th>AI Tool Name</th>\n",
              "      <th>Description</th>\n",
              "      <th>Free/Paid/Other</th>\n",
              "      <th>Useable For</th>\n",
              "      <th>Charges</th>\n",
              "      <th>Review</th>\n",
              "      <th>Tool Link</th>\n",
              "      <th>Major Category</th>\n",
              "    </tr>\n",
              "  </thead>\n",
              "  <tbody>\n",
              "    <tr>\n",
              "      <th>0</th>\n",
              "      <td>Farm3D</td>\n",
              "      <td>Learning Articulated 3D Animals by Distilling ...</td>\n",
              "      <td>Free</td>\n",
              "      <td>/ experiments    / 3D</td>\n",
              "      <td>NaN</td>\n",
              "      <td>NaN</td>\n",
              "      <td>https://farm3d.github.io/?utm_source=futureped...</td>\n",
              "      <td>other</td>\n",
              "    </tr>\n",
              "    <tr>\n",
              "      <th>1</th>\n",
              "      <td>Mailbutler Ai</td>\n",
              "      <td>AI-powered Smart Assistant for Outlook, Gmail ...</td>\n",
              "      <td>Freemium</td>\n",
              "      <td>/ email assistant</td>\n",
              "      <td>$ 4.95/mo</td>\n",
              "      <td>1</td>\n",
              "      <td>https://www.mailbutler.io/smart-assistant/?utm...</td>\n",
              "      <td>text</td>\n",
              "    </tr>\n",
              "    <tr>\n",
              "      <th>2</th>\n",
              "      <td>Maverick</td>\n",
              "      <td>Send customers personalized videos at scale.</td>\n",
              "      <td>Paid</td>\n",
              "      <td>/ e-commerce    / audio editing</td>\n",
              "      <td>$ 100/mo</td>\n",
              "      <td>NaN</td>\n",
              "      <td>https://www.trymaverick.com/?utm_source=future...</td>\n",
              "      <td>audio</td>\n",
              "    </tr>\n",
              "    <tr>\n",
              "      <th>3</th>\n",
              "      <td>0Xai</td>\n",
              "      <td>Stable Diffusion Prompt And Images Generator</td>\n",
              "      <td>Free</td>\n",
              "      <td>/ image generator    / prompts</td>\n",
              "      <td>NaN</td>\n",
              "      <td>NaN</td>\n",
              "      <td>https://0xai.quest?utm_source=futurepedia&amp;utm_...</td>\n",
              "      <td>image</td>\n",
              "    </tr>\n",
              "    <tr>\n",
              "      <th>4</th>\n",
              "      <td>10Web</td>\n",
              "      <td>AI-powered WordPress platform for automated we...</td>\n",
              "      <td>Freemium</td>\n",
              "      <td>/ low-code/no-code</td>\n",
              "      <td>NaN</td>\n",
              "      <td>NaN</td>\n",
              "      <td>https://10web.io/?utm_source=futurepedia&amp;utm_m...</td>\n",
              "      <td>code</td>\n",
              "    </tr>\n",
              "  </tbody>\n",
              "</table>\n",
              "</div>\n",
              "    <div class=\"colab-df-buttons\">\n",
              "\n",
              "  <div class=\"colab-df-container\">\n",
              "    <button class=\"colab-df-convert\" onclick=\"convertToInteractive('df-f008a1a6-dc37-4a30-aecf-5a583426d8a3')\"\n",
              "            title=\"Convert this dataframe to an interactive table.\"\n",
              "            style=\"display:none;\">\n",
              "\n",
              "  <svg xmlns=\"http://www.w3.org/2000/svg\" height=\"24px\" viewBox=\"0 -960 960 960\">\n",
              "    <path d=\"M120-120v-720h720v720H120Zm60-500h600v-160H180v160Zm220 220h160v-160H400v160Zm0 220h160v-160H400v160ZM180-400h160v-160H180v160Zm440 0h160v-160H620v160ZM180-180h160v-160H180v160Zm440 0h160v-160H620v160Z\"/>\n",
              "  </svg>\n",
              "    </button>\n",
              "\n",
              "  <style>\n",
              "    .colab-df-container {\n",
              "      display:flex;\n",
              "      gap: 12px;\n",
              "    }\n",
              "\n",
              "    .colab-df-convert {\n",
              "      background-color: #E8F0FE;\n",
              "      border: none;\n",
              "      border-radius: 50%;\n",
              "      cursor: pointer;\n",
              "      display: none;\n",
              "      fill: #1967D2;\n",
              "      height: 32px;\n",
              "      padding: 0 0 0 0;\n",
              "      width: 32px;\n",
              "    }\n",
              "\n",
              "    .colab-df-convert:hover {\n",
              "      background-color: #E2EBFA;\n",
              "      box-shadow: 0px 1px 2px rgba(60, 64, 67, 0.3), 0px 1px 3px 1px rgba(60, 64, 67, 0.15);\n",
              "      fill: #174EA6;\n",
              "    }\n",
              "\n",
              "    .colab-df-buttons div {\n",
              "      margin-bottom: 4px;\n",
              "    }\n",
              "\n",
              "    [theme=dark] .colab-df-convert {\n",
              "      background-color: #3B4455;\n",
              "      fill: #D2E3FC;\n",
              "    }\n",
              "\n",
              "    [theme=dark] .colab-df-convert:hover {\n",
              "      background-color: #434B5C;\n",
              "      box-shadow: 0px 1px 3px 1px rgba(0, 0, 0, 0.15);\n",
              "      filter: drop-shadow(0px 1px 2px rgba(0, 0, 0, 0.3));\n",
              "      fill: #FFFFFF;\n",
              "    }\n",
              "  </style>\n",
              "\n",
              "    <script>\n",
              "      const buttonEl =\n",
              "        document.querySelector('#df-f008a1a6-dc37-4a30-aecf-5a583426d8a3 button.colab-df-convert');\n",
              "      buttonEl.style.display =\n",
              "        google.colab.kernel.accessAllowed ? 'block' : 'none';\n",
              "\n",
              "      async function convertToInteractive(key) {\n",
              "        const element = document.querySelector('#df-f008a1a6-dc37-4a30-aecf-5a583426d8a3');\n",
              "        const dataTable =\n",
              "          await google.colab.kernel.invokeFunction('convertToInteractive',\n",
              "                                                    [key], {});\n",
              "        if (!dataTable) return;\n",
              "\n",
              "        const docLinkHtml = 'Like what you see? Visit the ' +\n",
              "          '<a target=\"_blank\" href=https://colab.research.google.com/notebooks/data_table.ipynb>data table notebook</a>'\n",
              "          + ' to learn more about interactive tables.';\n",
              "        element.innerHTML = '';\n",
              "        dataTable['output_type'] = 'display_data';\n",
              "        await google.colab.output.renderOutput(dataTable, element);\n",
              "        const docLink = document.createElement('div');\n",
              "        docLink.innerHTML = docLinkHtml;\n",
              "        element.appendChild(docLink);\n",
              "      }\n",
              "    </script>\n",
              "  </div>\n",
              "\n",
              "\n",
              "<div id=\"df-dafb9fb6-0b8f-4d57-9a62-aeb21b42712a\">\n",
              "  <button class=\"colab-df-quickchart\" onclick=\"quickchart('df-dafb9fb6-0b8f-4d57-9a62-aeb21b42712a')\"\n",
              "            title=\"Suggest charts\"\n",
              "            style=\"display:none;\">\n",
              "\n",
              "<svg xmlns=\"http://www.w3.org/2000/svg\" height=\"24px\"viewBox=\"0 0 24 24\"\n",
              "     width=\"24px\">\n",
              "    <g>\n",
              "        <path d=\"M19 3H5c-1.1 0-2 .9-2 2v14c0 1.1.9 2 2 2h14c1.1 0 2-.9 2-2V5c0-1.1-.9-2-2-2zM9 17H7v-7h2v7zm4 0h-2V7h2v10zm4 0h-2v-4h2v4z\"/>\n",
              "    </g>\n",
              "</svg>\n",
              "  </button>\n",
              "\n",
              "<style>\n",
              "  .colab-df-quickchart {\n",
              "      --bg-color: #E8F0FE;\n",
              "      --fill-color: #1967D2;\n",
              "      --hover-bg-color: #E2EBFA;\n",
              "      --hover-fill-color: #174EA6;\n",
              "      --disabled-fill-color: #AAA;\n",
              "      --disabled-bg-color: #DDD;\n",
              "  }\n",
              "\n",
              "  [theme=dark] .colab-df-quickchart {\n",
              "      --bg-color: #3B4455;\n",
              "      --fill-color: #D2E3FC;\n",
              "      --hover-bg-color: #434B5C;\n",
              "      --hover-fill-color: #FFFFFF;\n",
              "      --disabled-bg-color: #3B4455;\n",
              "      --disabled-fill-color: #666;\n",
              "  }\n",
              "\n",
              "  .colab-df-quickchart {\n",
              "    background-color: var(--bg-color);\n",
              "    border: none;\n",
              "    border-radius: 50%;\n",
              "    cursor: pointer;\n",
              "    display: none;\n",
              "    fill: var(--fill-color);\n",
              "    height: 32px;\n",
              "    padding: 0;\n",
              "    width: 32px;\n",
              "  }\n",
              "\n",
              "  .colab-df-quickchart:hover {\n",
              "    background-color: var(--hover-bg-color);\n",
              "    box-shadow: 0 1px 2px rgba(60, 64, 67, 0.3), 0 1px 3px 1px rgba(60, 64, 67, 0.15);\n",
              "    fill: var(--button-hover-fill-color);\n",
              "  }\n",
              "\n",
              "  .colab-df-quickchart-complete:disabled,\n",
              "  .colab-df-quickchart-complete:disabled:hover {\n",
              "    background-color: var(--disabled-bg-color);\n",
              "    fill: var(--disabled-fill-color);\n",
              "    box-shadow: none;\n",
              "  }\n",
              "\n",
              "  .colab-df-spinner {\n",
              "    border: 2px solid var(--fill-color);\n",
              "    border-color: transparent;\n",
              "    border-bottom-color: var(--fill-color);\n",
              "    animation:\n",
              "      spin 1s steps(1) infinite;\n",
              "  }\n",
              "\n",
              "  @keyframes spin {\n",
              "    0% {\n",
              "      border-color: transparent;\n",
              "      border-bottom-color: var(--fill-color);\n",
              "      border-left-color: var(--fill-color);\n",
              "    }\n",
              "    20% {\n",
              "      border-color: transparent;\n",
              "      border-left-color: var(--fill-color);\n",
              "      border-top-color: var(--fill-color);\n",
              "    }\n",
              "    30% {\n",
              "      border-color: transparent;\n",
              "      border-left-color: var(--fill-color);\n",
              "      border-top-color: var(--fill-color);\n",
              "      border-right-color: var(--fill-color);\n",
              "    }\n",
              "    40% {\n",
              "      border-color: transparent;\n",
              "      border-right-color: var(--fill-color);\n",
              "      border-top-color: var(--fill-color);\n",
              "    }\n",
              "    60% {\n",
              "      border-color: transparent;\n",
              "      border-right-color: var(--fill-color);\n",
              "    }\n",
              "    80% {\n",
              "      border-color: transparent;\n",
              "      border-right-color: var(--fill-color);\n",
              "      border-bottom-color: var(--fill-color);\n",
              "    }\n",
              "    90% {\n",
              "      border-color: transparent;\n",
              "      border-bottom-color: var(--fill-color);\n",
              "    }\n",
              "  }\n",
              "</style>\n",
              "\n",
              "  <script>\n",
              "    async function quickchart(key) {\n",
              "      const quickchartButtonEl =\n",
              "        document.querySelector('#' + key + ' button');\n",
              "      quickchartButtonEl.disabled = true;  // To prevent multiple clicks.\n",
              "      quickchartButtonEl.classList.add('colab-df-spinner');\n",
              "      try {\n",
              "        const charts = await google.colab.kernel.invokeFunction(\n",
              "            'suggestCharts', [key], {});\n",
              "      } catch (error) {\n",
              "        console.error('Error during call to suggestCharts:', error);\n",
              "      }\n",
              "      quickchartButtonEl.classList.remove('colab-df-spinner');\n",
              "      quickchartButtonEl.classList.add('colab-df-quickchart-complete');\n",
              "    }\n",
              "    (() => {\n",
              "      let quickchartButtonEl =\n",
              "        document.querySelector('#df-dafb9fb6-0b8f-4d57-9a62-aeb21b42712a button');\n",
              "      quickchartButtonEl.style.display =\n",
              "        google.colab.kernel.accessAllowed ? 'block' : 'none';\n",
              "    })();\n",
              "  </script>\n",
              "</div>\n",
              "\n",
              "    </div>\n",
              "  </div>\n"
            ],
            "application/vnd.google.colaboratory.intrinsic+json": {
              "type": "dataframe",
              "variable_name": "data",
              "summary": "{\n  \"name\": \"data\",\n  \"rows\": 4969,\n  \"fields\": [\n    {\n      \"column\": \"AI Tool Name\",\n      \"properties\": {\n        \"dtype\": \"string\",\n        \"num_unique_values\": 4969,\n        \"samples\": [\n          \"Chatfans\",\n          \"Review Rocket\",\n          \"Veed.Io\"\n        ],\n        \"semantic_type\": \"\",\n        \"description\": \"\"\n      }\n    },\n    {\n      \"column\": \"Description\",\n      \"properties\": {\n        \"dtype\": \"string\",\n        \"num_unique_values\": 4965,\n        \"samples\": [\n          \"Easily create hyper-personalized emails\",\n          \"Create perfect images instantly with Artssy AI.\",\n          \"Easy social media content creation.\"\n        ],\n        \"semantic_type\": \"\",\n        \"description\": \"\"\n      }\n    },\n    {\n      \"column\": \"Free/Paid/Other\",\n      \"properties\": {\n        \"dtype\": \"category\",\n        \"num_unique_values\": 19,\n        \"samples\": [\n          \"Free\",\n          \"Freemium | Free-Trial\",\n          \"FreeFreemium\"\n        ],\n        \"semantic_type\": \"\",\n        \"description\": \"\"\n      }\n    },\n    {\n      \"column\": \"Useable For\",\n      \"properties\": {\n        \"dtype\": \"category\",\n        \"num_unique_values\": 526,\n        \"samples\": [\n          \"  / startup tools    / fun tools\",\n          \"  / finance    / code assistant\",\n          \"  / 3D\"\n        ],\n        \"semantic_type\": \"\",\n        \"description\": \"\"\n      }\n    },\n    {\n      \"column\": \"Charges\",\n      \"properties\": {\n        \"dtype\": \"category\",\n        \"num_unique_values\": 557,\n        \"samples\": [\n          \"$7.99 \",\n          \"$ 32.5/mo\",\n          \"$30 \"\n        ],\n        \"semantic_type\": \"\",\n        \"description\": \"\"\n      }\n    },\n    {\n      \"column\": \"Review\",\n      \"properties\": {\n        \"dtype\": \"category\",\n        \"num_unique_values\": 17,\n        \"samples\": [\n          \"1\",\n          \"2\",\n          \"7\"\n        ],\n        \"semantic_type\": \"\",\n        \"description\": \"\"\n      }\n    },\n    {\n      \"column\": \"Tool Link\",\n      \"properties\": {\n        \"dtype\": \"string\",\n        \"num_unique_values\": 4959,\n        \"samples\": [\n          \"https://personagen.app?utm_source=futurepedia&utm_medium=marketplace&utm_campaign=futurepedia\",\n          \"https://show.intellinode.ai/?utm_source=futurepedia&utm_medium=marketplace&utm_campaign=futurepedia#?ref=theresanaiforthat\",\n          \"https://www.digimarkai.com/?utm_source=futurepedia&utm_medium=marketplace&utm_campaign=futurepedia\"\n        ],\n        \"semantic_type\": \"\",\n        \"description\": \"\"\n      }\n    },\n    {\n      \"column\": \"Major Category\",\n      \"properties\": {\n        \"dtype\": \"category\",\n        \"num_unique_values\": 8,\n        \"samples\": [\n          \"text\",\n          \"3D\",\n          \"other\"\n        ],\n        \"semantic_type\": \"\",\n        \"description\": \"\"\n      }\n    }\n  ]\n}"
            }
          },
          "metadata": {},
          "execution_count": 4
        }
      ]
    },
    {
      "cell_type": "code",
      "source": [
        "data.info()\n",
        "df = data.copy()"
      ],
      "metadata": {
        "execution": {
          "iopub.status.busy": "2023-09-23T16:19:39.831626Z",
          "iopub.execute_input": "2023-09-23T16:19:39.832064Z",
          "iopub.status.idle": "2023-09-23T16:19:39.852537Z",
          "shell.execute_reply.started": "2023-09-23T16:19:39.832031Z",
          "shell.execute_reply": "2023-09-23T16:19:39.851691Z"
        },
        "trusted": true,
        "id": "aDAJfc6VS4V5",
        "outputId": "4d94f577-3b07-4d4f-c5b3-1836722898ef",
        "colab": {
          "base_uri": "https://localhost:8080/"
        }
      },
      "execution_count": null,
      "outputs": [
        {
          "output_type": "stream",
          "name": "stdout",
          "text": [
            "<class 'pandas.core.frame.DataFrame'>\n",
            "RangeIndex: 4969 entries, 0 to 4968\n",
            "Data columns (total 8 columns):\n",
            " #   Column           Non-Null Count  Dtype \n",
            "---  ------           --------------  ----- \n",
            " 0   AI Tool Name     4969 non-null   object\n",
            " 1   Description      4969 non-null   object\n",
            " 2   Free/Paid/Other  4969 non-null   object\n",
            " 3   Useable For      4969 non-null   object\n",
            " 4   Charges          2534 non-null   object\n",
            " 5   Review           1462 non-null   object\n",
            " 6   Tool Link        4969 non-null   object\n",
            " 7   Major Category   4969 non-null   object\n",
            "dtypes: object(8)\n",
            "memory usage: 310.7+ KB\n"
          ]
        }
      ]
    },
    {
      "cell_type": "code",
      "source": [
        "df.columns = (\n",
        "    df.columns\n",
        "    .str.lower()\n",
        "    .str.strip()\n",
        "    .str.replace(\" \", \"_\")\n",
        "    .str.replace(\"/\", \"_\")\n",
        ")\n",
        "df.head()"
      ],
      "metadata": {
        "execution": {
          "iopub.status.busy": "2023-09-23T16:19:39.860535Z",
          "iopub.execute_input": "2023-09-23T16:19:39.860905Z",
          "iopub.status.idle": "2023-09-23T16:19:39.880606Z",
          "shell.execute_reply.started": "2023-09-23T16:19:39.860875Z",
          "shell.execute_reply": "2023-09-23T16:19:39.879167Z"
        },
        "trusted": true,
        "id": "wz9hwnN1S4V5",
        "outputId": "ff06b529-07f1-4a09-c71a-7f8e39b3c69e",
        "colab": {
          "base_uri": "https://localhost:8080/",
          "height": 206
        }
      },
      "execution_count": null,
      "outputs": [
        {
          "output_type": "execute_result",
          "data": {
            "text/plain": [
              "     ai_tool_name                                        description  \\\n",
              "0          Farm3D  Learning Articulated 3D Animals by Distilling ...   \n",
              "1   Mailbutler Ai  AI-powered Smart Assistant for Outlook, Gmail ...   \n",
              "2       Maverick      Send customers personalized videos at scale.     \n",
              "3            0Xai      Stable Diffusion Prompt And Images Generator    \n",
              "4           10Web  AI-powered WordPress platform for automated we...   \n",
              "\n",
              "  free_paid_other                        useable_for    charges review  \\\n",
              "0            Free              / experiments    / 3D        NaN    NaN   \n",
              "1        Freemium                  / email assistant  $ 4.95/mo      1   \n",
              "2            Paid    / e-commerce    / audio editing   $ 100/mo    NaN   \n",
              "3            Free     / image generator    / prompts        NaN    NaN   \n",
              "4        Freemium                 / low-code/no-code        NaN    NaN   \n",
              "\n",
              "                                           tool_link major_category  \n",
              "0  https://farm3d.github.io/?utm_source=futureped...          other  \n",
              "1  https://www.mailbutler.io/smart-assistant/?utm...           text  \n",
              "2  https://www.trymaverick.com/?utm_source=future...          audio  \n",
              "3  https://0xai.quest?utm_source=futurepedia&utm_...          image  \n",
              "4  https://10web.io/?utm_source=futurepedia&utm_m...           code  "
            ],
            "text/html": [
              "\n",
              "  <div id=\"df-97cd5f51-b3fb-49a2-ac0f-8a8d6c657dd4\" class=\"colab-df-container\">\n",
              "    <div>\n",
              "<style scoped>\n",
              "    .dataframe tbody tr th:only-of-type {\n",
              "        vertical-align: middle;\n",
              "    }\n",
              "\n",
              "    .dataframe tbody tr th {\n",
              "        vertical-align: top;\n",
              "    }\n",
              "\n",
              "    .dataframe thead th {\n",
              "        text-align: right;\n",
              "    }\n",
              "</style>\n",
              "<table border=\"1\" class=\"dataframe\">\n",
              "  <thead>\n",
              "    <tr style=\"text-align: right;\">\n",
              "      <th></th>\n",
              "      <th>ai_tool_name</th>\n",
              "      <th>description</th>\n",
              "      <th>free_paid_other</th>\n",
              "      <th>useable_for</th>\n",
              "      <th>charges</th>\n",
              "      <th>review</th>\n",
              "      <th>tool_link</th>\n",
              "      <th>major_category</th>\n",
              "    </tr>\n",
              "  </thead>\n",
              "  <tbody>\n",
              "    <tr>\n",
              "      <th>0</th>\n",
              "      <td>Farm3D</td>\n",
              "      <td>Learning Articulated 3D Animals by Distilling ...</td>\n",
              "      <td>Free</td>\n",
              "      <td>/ experiments    / 3D</td>\n",
              "      <td>NaN</td>\n",
              "      <td>NaN</td>\n",
              "      <td>https://farm3d.github.io/?utm_source=futureped...</td>\n",
              "      <td>other</td>\n",
              "    </tr>\n",
              "    <tr>\n",
              "      <th>1</th>\n",
              "      <td>Mailbutler Ai</td>\n",
              "      <td>AI-powered Smart Assistant for Outlook, Gmail ...</td>\n",
              "      <td>Freemium</td>\n",
              "      <td>/ email assistant</td>\n",
              "      <td>$ 4.95/mo</td>\n",
              "      <td>1</td>\n",
              "      <td>https://www.mailbutler.io/smart-assistant/?utm...</td>\n",
              "      <td>text</td>\n",
              "    </tr>\n",
              "    <tr>\n",
              "      <th>2</th>\n",
              "      <td>Maverick</td>\n",
              "      <td>Send customers personalized videos at scale.</td>\n",
              "      <td>Paid</td>\n",
              "      <td>/ e-commerce    / audio editing</td>\n",
              "      <td>$ 100/mo</td>\n",
              "      <td>NaN</td>\n",
              "      <td>https://www.trymaverick.com/?utm_source=future...</td>\n",
              "      <td>audio</td>\n",
              "    </tr>\n",
              "    <tr>\n",
              "      <th>3</th>\n",
              "      <td>0Xai</td>\n",
              "      <td>Stable Diffusion Prompt And Images Generator</td>\n",
              "      <td>Free</td>\n",
              "      <td>/ image generator    / prompts</td>\n",
              "      <td>NaN</td>\n",
              "      <td>NaN</td>\n",
              "      <td>https://0xai.quest?utm_source=futurepedia&amp;utm_...</td>\n",
              "      <td>image</td>\n",
              "    </tr>\n",
              "    <tr>\n",
              "      <th>4</th>\n",
              "      <td>10Web</td>\n",
              "      <td>AI-powered WordPress platform for automated we...</td>\n",
              "      <td>Freemium</td>\n",
              "      <td>/ low-code/no-code</td>\n",
              "      <td>NaN</td>\n",
              "      <td>NaN</td>\n",
              "      <td>https://10web.io/?utm_source=futurepedia&amp;utm_m...</td>\n",
              "      <td>code</td>\n",
              "    </tr>\n",
              "  </tbody>\n",
              "</table>\n",
              "</div>\n",
              "    <div class=\"colab-df-buttons\">\n",
              "\n",
              "  <div class=\"colab-df-container\">\n",
              "    <button class=\"colab-df-convert\" onclick=\"convertToInteractive('df-97cd5f51-b3fb-49a2-ac0f-8a8d6c657dd4')\"\n",
              "            title=\"Convert this dataframe to an interactive table.\"\n",
              "            style=\"display:none;\">\n",
              "\n",
              "  <svg xmlns=\"http://www.w3.org/2000/svg\" height=\"24px\" viewBox=\"0 -960 960 960\">\n",
              "    <path d=\"M120-120v-720h720v720H120Zm60-500h600v-160H180v160Zm220 220h160v-160H400v160Zm0 220h160v-160H400v160ZM180-400h160v-160H180v160Zm440 0h160v-160H620v160ZM180-180h160v-160H180v160Zm440 0h160v-160H620v160Z\"/>\n",
              "  </svg>\n",
              "    </button>\n",
              "\n",
              "  <style>\n",
              "    .colab-df-container {\n",
              "      display:flex;\n",
              "      gap: 12px;\n",
              "    }\n",
              "\n",
              "    .colab-df-convert {\n",
              "      background-color: #E8F0FE;\n",
              "      border: none;\n",
              "      border-radius: 50%;\n",
              "      cursor: pointer;\n",
              "      display: none;\n",
              "      fill: #1967D2;\n",
              "      height: 32px;\n",
              "      padding: 0 0 0 0;\n",
              "      width: 32px;\n",
              "    }\n",
              "\n",
              "    .colab-df-convert:hover {\n",
              "      background-color: #E2EBFA;\n",
              "      box-shadow: 0px 1px 2px rgba(60, 64, 67, 0.3), 0px 1px 3px 1px rgba(60, 64, 67, 0.15);\n",
              "      fill: #174EA6;\n",
              "    }\n",
              "\n",
              "    .colab-df-buttons div {\n",
              "      margin-bottom: 4px;\n",
              "    }\n",
              "\n",
              "    [theme=dark] .colab-df-convert {\n",
              "      background-color: #3B4455;\n",
              "      fill: #D2E3FC;\n",
              "    }\n",
              "\n",
              "    [theme=dark] .colab-df-convert:hover {\n",
              "      background-color: #434B5C;\n",
              "      box-shadow: 0px 1px 3px 1px rgba(0, 0, 0, 0.15);\n",
              "      filter: drop-shadow(0px 1px 2px rgba(0, 0, 0, 0.3));\n",
              "      fill: #FFFFFF;\n",
              "    }\n",
              "  </style>\n",
              "\n",
              "    <script>\n",
              "      const buttonEl =\n",
              "        document.querySelector('#df-97cd5f51-b3fb-49a2-ac0f-8a8d6c657dd4 button.colab-df-convert');\n",
              "      buttonEl.style.display =\n",
              "        google.colab.kernel.accessAllowed ? 'block' : 'none';\n",
              "\n",
              "      async function convertToInteractive(key) {\n",
              "        const element = document.querySelector('#df-97cd5f51-b3fb-49a2-ac0f-8a8d6c657dd4');\n",
              "        const dataTable =\n",
              "          await google.colab.kernel.invokeFunction('convertToInteractive',\n",
              "                                                    [key], {});\n",
              "        if (!dataTable) return;\n",
              "\n",
              "        const docLinkHtml = 'Like what you see? Visit the ' +\n",
              "          '<a target=\"_blank\" href=https://colab.research.google.com/notebooks/data_table.ipynb>data table notebook</a>'\n",
              "          + ' to learn more about interactive tables.';\n",
              "        element.innerHTML = '';\n",
              "        dataTable['output_type'] = 'display_data';\n",
              "        await google.colab.output.renderOutput(dataTable, element);\n",
              "        const docLink = document.createElement('div');\n",
              "        docLink.innerHTML = docLinkHtml;\n",
              "        element.appendChild(docLink);\n",
              "      }\n",
              "    </script>\n",
              "  </div>\n",
              "\n",
              "\n",
              "<div id=\"df-2857c72b-d695-42f6-afb3-695704f54f58\">\n",
              "  <button class=\"colab-df-quickchart\" onclick=\"quickchart('df-2857c72b-d695-42f6-afb3-695704f54f58')\"\n",
              "            title=\"Suggest charts\"\n",
              "            style=\"display:none;\">\n",
              "\n",
              "<svg xmlns=\"http://www.w3.org/2000/svg\" height=\"24px\"viewBox=\"0 0 24 24\"\n",
              "     width=\"24px\">\n",
              "    <g>\n",
              "        <path d=\"M19 3H5c-1.1 0-2 .9-2 2v14c0 1.1.9 2 2 2h14c1.1 0 2-.9 2-2V5c0-1.1-.9-2-2-2zM9 17H7v-7h2v7zm4 0h-2V7h2v10zm4 0h-2v-4h2v4z\"/>\n",
              "    </g>\n",
              "</svg>\n",
              "  </button>\n",
              "\n",
              "<style>\n",
              "  .colab-df-quickchart {\n",
              "      --bg-color: #E8F0FE;\n",
              "      --fill-color: #1967D2;\n",
              "      --hover-bg-color: #E2EBFA;\n",
              "      --hover-fill-color: #174EA6;\n",
              "      --disabled-fill-color: #AAA;\n",
              "      --disabled-bg-color: #DDD;\n",
              "  }\n",
              "\n",
              "  [theme=dark] .colab-df-quickchart {\n",
              "      --bg-color: #3B4455;\n",
              "      --fill-color: #D2E3FC;\n",
              "      --hover-bg-color: #434B5C;\n",
              "      --hover-fill-color: #FFFFFF;\n",
              "      --disabled-bg-color: #3B4455;\n",
              "      --disabled-fill-color: #666;\n",
              "  }\n",
              "\n",
              "  .colab-df-quickchart {\n",
              "    background-color: var(--bg-color);\n",
              "    border: none;\n",
              "    border-radius: 50%;\n",
              "    cursor: pointer;\n",
              "    display: none;\n",
              "    fill: var(--fill-color);\n",
              "    height: 32px;\n",
              "    padding: 0;\n",
              "    width: 32px;\n",
              "  }\n",
              "\n",
              "  .colab-df-quickchart:hover {\n",
              "    background-color: var(--hover-bg-color);\n",
              "    box-shadow: 0 1px 2px rgba(60, 64, 67, 0.3), 0 1px 3px 1px rgba(60, 64, 67, 0.15);\n",
              "    fill: var(--button-hover-fill-color);\n",
              "  }\n",
              "\n",
              "  .colab-df-quickchart-complete:disabled,\n",
              "  .colab-df-quickchart-complete:disabled:hover {\n",
              "    background-color: var(--disabled-bg-color);\n",
              "    fill: var(--disabled-fill-color);\n",
              "    box-shadow: none;\n",
              "  }\n",
              "\n",
              "  .colab-df-spinner {\n",
              "    border: 2px solid var(--fill-color);\n",
              "    border-color: transparent;\n",
              "    border-bottom-color: var(--fill-color);\n",
              "    animation:\n",
              "      spin 1s steps(1) infinite;\n",
              "  }\n",
              "\n",
              "  @keyframes spin {\n",
              "    0% {\n",
              "      border-color: transparent;\n",
              "      border-bottom-color: var(--fill-color);\n",
              "      border-left-color: var(--fill-color);\n",
              "    }\n",
              "    20% {\n",
              "      border-color: transparent;\n",
              "      border-left-color: var(--fill-color);\n",
              "      border-top-color: var(--fill-color);\n",
              "    }\n",
              "    30% {\n",
              "      border-color: transparent;\n",
              "      border-left-color: var(--fill-color);\n",
              "      border-top-color: var(--fill-color);\n",
              "      border-right-color: var(--fill-color);\n",
              "    }\n",
              "    40% {\n",
              "      border-color: transparent;\n",
              "      border-right-color: var(--fill-color);\n",
              "      border-top-color: var(--fill-color);\n",
              "    }\n",
              "    60% {\n",
              "      border-color: transparent;\n",
              "      border-right-color: var(--fill-color);\n",
              "    }\n",
              "    80% {\n",
              "      border-color: transparent;\n",
              "      border-right-color: var(--fill-color);\n",
              "      border-bottom-color: var(--fill-color);\n",
              "    }\n",
              "    90% {\n",
              "      border-color: transparent;\n",
              "      border-bottom-color: var(--fill-color);\n",
              "    }\n",
              "  }\n",
              "</style>\n",
              "\n",
              "  <script>\n",
              "    async function quickchart(key) {\n",
              "      const quickchartButtonEl =\n",
              "        document.querySelector('#' + key + ' button');\n",
              "      quickchartButtonEl.disabled = true;  // To prevent multiple clicks.\n",
              "      quickchartButtonEl.classList.add('colab-df-spinner');\n",
              "      try {\n",
              "        const charts = await google.colab.kernel.invokeFunction(\n",
              "            'suggestCharts', [key], {});\n",
              "      } catch (error) {\n",
              "        console.error('Error during call to suggestCharts:', error);\n",
              "      }\n",
              "      quickchartButtonEl.classList.remove('colab-df-spinner');\n",
              "      quickchartButtonEl.classList.add('colab-df-quickchart-complete');\n",
              "    }\n",
              "    (() => {\n",
              "      let quickchartButtonEl =\n",
              "        document.querySelector('#df-2857c72b-d695-42f6-afb3-695704f54f58 button');\n",
              "      quickchartButtonEl.style.display =\n",
              "        google.colab.kernel.accessAllowed ? 'block' : 'none';\n",
              "    })();\n",
              "  </script>\n",
              "</div>\n",
              "\n",
              "    </div>\n",
              "  </div>\n"
            ],
            "application/vnd.google.colaboratory.intrinsic+json": {
              "type": "dataframe",
              "variable_name": "df",
              "summary": "{\n  \"name\": \"df\",\n  \"rows\": 4969,\n  \"fields\": [\n    {\n      \"column\": \"ai_tool_name\",\n      \"properties\": {\n        \"dtype\": \"string\",\n        \"num_unique_values\": 4969,\n        \"samples\": [\n          \"Chatfans\",\n          \"Review Rocket\",\n          \"Veed.Io\"\n        ],\n        \"semantic_type\": \"\",\n        \"description\": \"\"\n      }\n    },\n    {\n      \"column\": \"description\",\n      \"properties\": {\n        \"dtype\": \"string\",\n        \"num_unique_values\": 4965,\n        \"samples\": [\n          \"Easily create hyper-personalized emails\",\n          \"Create perfect images instantly with Artssy AI.\",\n          \"Easy social media content creation.\"\n        ],\n        \"semantic_type\": \"\",\n        \"description\": \"\"\n      }\n    },\n    {\n      \"column\": \"free_paid_other\",\n      \"properties\": {\n        \"dtype\": \"category\",\n        \"num_unique_values\": 19,\n        \"samples\": [\n          \"Free\",\n          \"Freemium | Free-Trial\",\n          \"FreeFreemium\"\n        ],\n        \"semantic_type\": \"\",\n        \"description\": \"\"\n      }\n    },\n    {\n      \"column\": \"useable_for\",\n      \"properties\": {\n        \"dtype\": \"category\",\n        \"num_unique_values\": 526,\n        \"samples\": [\n          \"  / startup tools    / fun tools\",\n          \"  / finance    / code assistant\",\n          \"  / 3D\"\n        ],\n        \"semantic_type\": \"\",\n        \"description\": \"\"\n      }\n    },\n    {\n      \"column\": \"charges\",\n      \"properties\": {\n        \"dtype\": \"category\",\n        \"num_unique_values\": 557,\n        \"samples\": [\n          \"$7.99 \",\n          \"$ 32.5/mo\",\n          \"$30 \"\n        ],\n        \"semantic_type\": \"\",\n        \"description\": \"\"\n      }\n    },\n    {\n      \"column\": \"review\",\n      \"properties\": {\n        \"dtype\": \"category\",\n        \"num_unique_values\": 17,\n        \"samples\": [\n          \"1\",\n          \"2\",\n          \"7\"\n        ],\n        \"semantic_type\": \"\",\n        \"description\": \"\"\n      }\n    },\n    {\n      \"column\": \"tool_link\",\n      \"properties\": {\n        \"dtype\": \"string\",\n        \"num_unique_values\": 4959,\n        \"samples\": [\n          \"https://personagen.app?utm_source=futurepedia&utm_medium=marketplace&utm_campaign=futurepedia\",\n          \"https://show.intellinode.ai/?utm_source=futurepedia&utm_medium=marketplace&utm_campaign=futurepedia#?ref=theresanaiforthat\",\n          \"https://www.digimarkai.com/?utm_source=futurepedia&utm_medium=marketplace&utm_campaign=futurepedia\"\n        ],\n        \"semantic_type\": \"\",\n        \"description\": \"\"\n      }\n    },\n    {\n      \"column\": \"major_category\",\n      \"properties\": {\n        \"dtype\": \"category\",\n        \"num_unique_values\": 8,\n        \"samples\": [\n          \"text\",\n          \"3D\",\n          \"other\"\n        ],\n        \"semantic_type\": \"\",\n        \"description\": \"\"\n      }\n    }\n  ]\n}"
            }
          },
          "metadata": {},
          "execution_count": 6
        }
      ]
    },
    {
      "cell_type": "markdown",
      "source": [
        "### Charges column has different pricing, like per month or per credit etc. splitting the columns for now"
      ],
      "metadata": {
        "id": "0ufLOax8S4V5"
      }
    },
    {
      "cell_type": "code",
      "source": [
        "import re\n",
        "\n",
        "df[\"charges_value\"] = None\n",
        "df[\"charges_unit\"] = None\n",
        "\n",
        "pattern = re.compile(r'([\\d.]+)\\s*([a-zA-Z/]+)')\n",
        "\n",
        "for i, j in enumerate(df.charges.fillna('')):\n",
        "    match = pattern.search(j)\n",
        "    if match:\n",
        "        df.loc[i, \"charges_value\"] = float(match.group(1))\n",
        "        df.loc[i, \"charges_unit\"] = match.group(2)\n",
        "\n",
        "df[[\"charges_value\", \"charges_unit\"]].head()"
      ],
      "metadata": {
        "execution": {
          "iopub.status.busy": "2023-09-23T16:19:39.911341Z",
          "iopub.execute_input": "2023-09-23T16:19:39.911776Z",
          "iopub.status.idle": "2023-09-23T16:19:40.28097Z",
          "shell.execute_reply.started": "2023-09-23T16:19:39.911741Z",
          "shell.execute_reply": "2023-09-23T16:19:40.279798Z"
        },
        "trusted": true,
        "id": "X7A9os8gS4V5",
        "outputId": "ab8f125a-4b01-4ce2-87dd-3b6e6edef137",
        "colab": {
          "base_uri": "https://localhost:8080/",
          "height": 206
        }
      },
      "execution_count": null,
      "outputs": [
        {
          "output_type": "execute_result",
          "data": {
            "text/plain": [
              "  charges_value charges_unit\n",
              "0          None         None\n",
              "1          4.95          /mo\n",
              "2         100.0          /mo\n",
              "3          None         None\n",
              "4          None         None"
            ],
            "text/html": [
              "\n",
              "  <div id=\"df-3e3652b3-5204-476e-9945-07a9e49141ec\" class=\"colab-df-container\">\n",
              "    <div>\n",
              "<style scoped>\n",
              "    .dataframe tbody tr th:only-of-type {\n",
              "        vertical-align: middle;\n",
              "    }\n",
              "\n",
              "    .dataframe tbody tr th {\n",
              "        vertical-align: top;\n",
              "    }\n",
              "\n",
              "    .dataframe thead th {\n",
              "        text-align: right;\n",
              "    }\n",
              "</style>\n",
              "<table border=\"1\" class=\"dataframe\">\n",
              "  <thead>\n",
              "    <tr style=\"text-align: right;\">\n",
              "      <th></th>\n",
              "      <th>charges_value</th>\n",
              "      <th>charges_unit</th>\n",
              "    </tr>\n",
              "  </thead>\n",
              "  <tbody>\n",
              "    <tr>\n",
              "      <th>0</th>\n",
              "      <td>None</td>\n",
              "      <td>None</td>\n",
              "    </tr>\n",
              "    <tr>\n",
              "      <th>1</th>\n",
              "      <td>4.95</td>\n",
              "      <td>/mo</td>\n",
              "    </tr>\n",
              "    <tr>\n",
              "      <th>2</th>\n",
              "      <td>100.0</td>\n",
              "      <td>/mo</td>\n",
              "    </tr>\n",
              "    <tr>\n",
              "      <th>3</th>\n",
              "      <td>None</td>\n",
              "      <td>None</td>\n",
              "    </tr>\n",
              "    <tr>\n",
              "      <th>4</th>\n",
              "      <td>None</td>\n",
              "      <td>None</td>\n",
              "    </tr>\n",
              "  </tbody>\n",
              "</table>\n",
              "</div>\n",
              "    <div class=\"colab-df-buttons\">\n",
              "\n",
              "  <div class=\"colab-df-container\">\n",
              "    <button class=\"colab-df-convert\" onclick=\"convertToInteractive('df-3e3652b3-5204-476e-9945-07a9e49141ec')\"\n",
              "            title=\"Convert this dataframe to an interactive table.\"\n",
              "            style=\"display:none;\">\n",
              "\n",
              "  <svg xmlns=\"http://www.w3.org/2000/svg\" height=\"24px\" viewBox=\"0 -960 960 960\">\n",
              "    <path d=\"M120-120v-720h720v720H120Zm60-500h600v-160H180v160Zm220 220h160v-160H400v160Zm0 220h160v-160H400v160ZM180-400h160v-160H180v160Zm440 0h160v-160H620v160ZM180-180h160v-160H180v160Zm440 0h160v-160H620v160Z\"/>\n",
              "  </svg>\n",
              "    </button>\n",
              "\n",
              "  <style>\n",
              "    .colab-df-container {\n",
              "      display:flex;\n",
              "      gap: 12px;\n",
              "    }\n",
              "\n",
              "    .colab-df-convert {\n",
              "      background-color: #E8F0FE;\n",
              "      border: none;\n",
              "      border-radius: 50%;\n",
              "      cursor: pointer;\n",
              "      display: none;\n",
              "      fill: #1967D2;\n",
              "      height: 32px;\n",
              "      padding: 0 0 0 0;\n",
              "      width: 32px;\n",
              "    }\n",
              "\n",
              "    .colab-df-convert:hover {\n",
              "      background-color: #E2EBFA;\n",
              "      box-shadow: 0px 1px 2px rgba(60, 64, 67, 0.3), 0px 1px 3px 1px rgba(60, 64, 67, 0.15);\n",
              "      fill: #174EA6;\n",
              "    }\n",
              "\n",
              "    .colab-df-buttons div {\n",
              "      margin-bottom: 4px;\n",
              "    }\n",
              "\n",
              "    [theme=dark] .colab-df-convert {\n",
              "      background-color: #3B4455;\n",
              "      fill: #D2E3FC;\n",
              "    }\n",
              "\n",
              "    [theme=dark] .colab-df-convert:hover {\n",
              "      background-color: #434B5C;\n",
              "      box-shadow: 0px 1px 3px 1px rgba(0, 0, 0, 0.15);\n",
              "      filter: drop-shadow(0px 1px 2px rgba(0, 0, 0, 0.3));\n",
              "      fill: #FFFFFF;\n",
              "    }\n",
              "  </style>\n",
              "\n",
              "    <script>\n",
              "      const buttonEl =\n",
              "        document.querySelector('#df-3e3652b3-5204-476e-9945-07a9e49141ec button.colab-df-convert');\n",
              "      buttonEl.style.display =\n",
              "        google.colab.kernel.accessAllowed ? 'block' : 'none';\n",
              "\n",
              "      async function convertToInteractive(key) {\n",
              "        const element = document.querySelector('#df-3e3652b3-5204-476e-9945-07a9e49141ec');\n",
              "        const dataTable =\n",
              "          await google.colab.kernel.invokeFunction('convertToInteractive',\n",
              "                                                    [key], {});\n",
              "        if (!dataTable) return;\n",
              "\n",
              "        const docLinkHtml = 'Like what you see? Visit the ' +\n",
              "          '<a target=\"_blank\" href=https://colab.research.google.com/notebooks/data_table.ipynb>data table notebook</a>'\n",
              "          + ' to learn more about interactive tables.';\n",
              "        element.innerHTML = '';\n",
              "        dataTable['output_type'] = 'display_data';\n",
              "        await google.colab.output.renderOutput(dataTable, element);\n",
              "        const docLink = document.createElement('div');\n",
              "        docLink.innerHTML = docLinkHtml;\n",
              "        element.appendChild(docLink);\n",
              "      }\n",
              "    </script>\n",
              "  </div>\n",
              "\n",
              "\n",
              "<div id=\"df-be841b59-286e-4915-9bee-54f14aac2a94\">\n",
              "  <button class=\"colab-df-quickchart\" onclick=\"quickchart('df-be841b59-286e-4915-9bee-54f14aac2a94')\"\n",
              "            title=\"Suggest charts\"\n",
              "            style=\"display:none;\">\n",
              "\n",
              "<svg xmlns=\"http://www.w3.org/2000/svg\" height=\"24px\"viewBox=\"0 0 24 24\"\n",
              "     width=\"24px\">\n",
              "    <g>\n",
              "        <path d=\"M19 3H5c-1.1 0-2 .9-2 2v14c0 1.1.9 2 2 2h14c1.1 0 2-.9 2-2V5c0-1.1-.9-2-2-2zM9 17H7v-7h2v7zm4 0h-2V7h2v10zm4 0h-2v-4h2v4z\"/>\n",
              "    </g>\n",
              "</svg>\n",
              "  </button>\n",
              "\n",
              "<style>\n",
              "  .colab-df-quickchart {\n",
              "      --bg-color: #E8F0FE;\n",
              "      --fill-color: #1967D2;\n",
              "      --hover-bg-color: #E2EBFA;\n",
              "      --hover-fill-color: #174EA6;\n",
              "      --disabled-fill-color: #AAA;\n",
              "      --disabled-bg-color: #DDD;\n",
              "  }\n",
              "\n",
              "  [theme=dark] .colab-df-quickchart {\n",
              "      --bg-color: #3B4455;\n",
              "      --fill-color: #D2E3FC;\n",
              "      --hover-bg-color: #434B5C;\n",
              "      --hover-fill-color: #FFFFFF;\n",
              "      --disabled-bg-color: #3B4455;\n",
              "      --disabled-fill-color: #666;\n",
              "  }\n",
              "\n",
              "  .colab-df-quickchart {\n",
              "    background-color: var(--bg-color);\n",
              "    border: none;\n",
              "    border-radius: 50%;\n",
              "    cursor: pointer;\n",
              "    display: none;\n",
              "    fill: var(--fill-color);\n",
              "    height: 32px;\n",
              "    padding: 0;\n",
              "    width: 32px;\n",
              "  }\n",
              "\n",
              "  .colab-df-quickchart:hover {\n",
              "    background-color: var(--hover-bg-color);\n",
              "    box-shadow: 0 1px 2px rgba(60, 64, 67, 0.3), 0 1px 3px 1px rgba(60, 64, 67, 0.15);\n",
              "    fill: var(--button-hover-fill-color);\n",
              "  }\n",
              "\n",
              "  .colab-df-quickchart-complete:disabled,\n",
              "  .colab-df-quickchart-complete:disabled:hover {\n",
              "    background-color: var(--disabled-bg-color);\n",
              "    fill: var(--disabled-fill-color);\n",
              "    box-shadow: none;\n",
              "  }\n",
              "\n",
              "  .colab-df-spinner {\n",
              "    border: 2px solid var(--fill-color);\n",
              "    border-color: transparent;\n",
              "    border-bottom-color: var(--fill-color);\n",
              "    animation:\n",
              "      spin 1s steps(1) infinite;\n",
              "  }\n",
              "\n",
              "  @keyframes spin {\n",
              "    0% {\n",
              "      border-color: transparent;\n",
              "      border-bottom-color: var(--fill-color);\n",
              "      border-left-color: var(--fill-color);\n",
              "    }\n",
              "    20% {\n",
              "      border-color: transparent;\n",
              "      border-left-color: var(--fill-color);\n",
              "      border-top-color: var(--fill-color);\n",
              "    }\n",
              "    30% {\n",
              "      border-color: transparent;\n",
              "      border-left-color: var(--fill-color);\n",
              "      border-top-color: var(--fill-color);\n",
              "      border-right-color: var(--fill-color);\n",
              "    }\n",
              "    40% {\n",
              "      border-color: transparent;\n",
              "      border-right-color: var(--fill-color);\n",
              "      border-top-color: var(--fill-color);\n",
              "    }\n",
              "    60% {\n",
              "      border-color: transparent;\n",
              "      border-right-color: var(--fill-color);\n",
              "    }\n",
              "    80% {\n",
              "      border-color: transparent;\n",
              "      border-right-color: var(--fill-color);\n",
              "      border-bottom-color: var(--fill-color);\n",
              "    }\n",
              "    90% {\n",
              "      border-color: transparent;\n",
              "      border-bottom-color: var(--fill-color);\n",
              "    }\n",
              "  }\n",
              "</style>\n",
              "\n",
              "  <script>\n",
              "    async function quickchart(key) {\n",
              "      const quickchartButtonEl =\n",
              "        document.querySelector('#' + key + ' button');\n",
              "      quickchartButtonEl.disabled = true;  // To prevent multiple clicks.\n",
              "      quickchartButtonEl.classList.add('colab-df-spinner');\n",
              "      try {\n",
              "        const charts = await google.colab.kernel.invokeFunction(\n",
              "            'suggestCharts', [key], {});\n",
              "      } catch (error) {\n",
              "        console.error('Error during call to suggestCharts:', error);\n",
              "      }\n",
              "      quickchartButtonEl.classList.remove('colab-df-spinner');\n",
              "      quickchartButtonEl.classList.add('colab-df-quickchart-complete');\n",
              "    }\n",
              "    (() => {\n",
              "      let quickchartButtonEl =\n",
              "        document.querySelector('#df-be841b59-286e-4915-9bee-54f14aac2a94 button');\n",
              "      quickchartButtonEl.style.display =\n",
              "        google.colab.kernel.accessAllowed ? 'block' : 'none';\n",
              "    })();\n",
              "  </script>\n",
              "</div>\n",
              "\n",
              "    </div>\n",
              "  </div>\n"
            ],
            "application/vnd.google.colaboratory.intrinsic+json": {
              "type": "dataframe",
              "repr_error": "'str' object has no attribute 'empty'"
            }
          },
          "metadata": {},
          "execution_count": 7
        }
      ]
    },
    {
      "cell_type": "code",
      "source": [
        "set(df.free_paid_other)"
      ],
      "metadata": {
        "execution": {
          "iopub.status.busy": "2023-09-23T16:19:40.283249Z",
          "iopub.execute_input": "2023-09-23T16:19:40.283973Z",
          "iopub.status.idle": "2023-09-23T16:19:40.292087Z",
          "shell.execute_reply.started": "2023-09-23T16:19:40.283931Z",
          "shell.execute_reply": "2023-09-23T16:19:40.291213Z"
        },
        "trusted": true,
        "id": "dsmY_nFpS4V5",
        "outputId": "afb72a90-c3d3-4e3c-a16e-2f7db74b50fb",
        "colab": {
          "base_uri": "https://localhost:8080/"
        }
      },
      "execution_count": null,
      "outputs": [
        {
          "output_type": "execute_result",
          "data": {
            "text/plain": [
              "{'Contact for Pricing',\n",
              " 'Deals',\n",
              " 'Free',\n",
              " 'Free Trial',\n",
              " 'Free | Freemium | Paid',\n",
              " 'Free | Paid',\n",
              " 'Free-Trial | Deals',\n",
              " 'Free-Trial | Freemium',\n",
              " 'Free-Trial | Paid',\n",
              " 'FreeDeals',\n",
              " 'FreeFreemium',\n",
              " 'Freemium',\n",
              " 'Freemium | Deals',\n",
              " 'Freemium | Free',\n",
              " 'Freemium | Free-Trial',\n",
              " 'Freemium |Contact for Pricing',\n",
              " 'Paid',\n",
              " 'Paid | Deals',\n",
              " 'Paid |Free-Trial'}"
            ]
          },
          "metadata": {},
          "execution_count": 8
        }
      ]
    },
    {
      "cell_type": "markdown",
      "source": [
        "### Let's tidy this part a bit:\n",
        "- If a tool is marked \"Free\" and has a non-zero price, it will be recategorized as \"Freemium.\"\n",
        "- If a tool is marked \"Paid\" but has no price listed, we may flag it for further investigation.\n",
        "- Otherwise, we'll keep only the existing categories (\"Free,\" \"Freemium,\" \"Paid\")."
      ],
      "metadata": {
        "id": "7SogUkroS4V6"
      }
    },
    {
      "cell_type": "code",
      "source": [
        "df[\"charges_value\"] = df[\"charges_value\"].astype(float)\n",
        "\n",
        "# 'charges_value' to 0 where the product is free and the value is NaN\n",
        "df.loc[(df[\"free_paid_other\"] == 'Free') & (df[\"charges_value\"].isna()), \"charges_value\"] = 0\n",
        "\n",
        "# only if it is \"Free\" with a zero price, set it to \"Free\"\n",
        "df.loc[(df[\"free_paid_other\"].str.contains('Free', na=False)) & (df[\"charges_value\"] == 0), \"free_paid_other\"] = 'Free'\n",
        "\n",
        "# if labeled as 'Free' but has a non-zero price, recategorize as 'Freemium'\n",
        "df.loc[(df[\"free_paid_other\"] == 'Free') & (df[\"charges_value\"] > 0), \"free_paid_other\"] = 'Freemium'\n",
        "\n",
        "# any combination involving \"Free\" or \"Freemium\" will be labeled as \"Freemium\"\n",
        "freemium_keywords = ['Free', 'Freemium']\n",
        "df.loc[df[\"free_paid_other\"].str.contains('|'.join(freemium_keywords), na=False) & (df[\"free_paid_other\"] != 'Free'), \"free_paid_other\"] = 'Freemium'\n",
        "\n",
        "# if labeled as 'Paid' or any combination involving 'Paid', set it to 'Paid'\n",
        "paid_keywords = ['Paid', 'Contact for Pricing', 'Deals']\n",
        "df.loc[df[\"free_paid_other\"].str.contains('|'.join(paid_keywords), na=False), \"free_paid_other\"] = 'Paid'\n"
      ],
      "metadata": {
        "execution": {
          "iopub.status.busy": "2023-09-23T16:19:40.293599Z",
          "iopub.execute_input": "2023-09-23T16:19:40.293947Z",
          "iopub.status.idle": "2023-09-23T16:19:40.3302Z",
          "shell.execute_reply.started": "2023-09-23T16:19:40.293917Z",
          "shell.execute_reply": "2023-09-23T16:19:40.329084Z"
        },
        "trusted": true,
        "id": "2DeydmqwS4V6"
      },
      "execution_count": null,
      "outputs": []
    },
    {
      "cell_type": "code",
      "source": [
        "set(df.free_paid_other)"
      ],
      "metadata": {
        "execution": {
          "iopub.status.busy": "2023-09-23T16:19:40.333159Z",
          "iopub.execute_input": "2023-09-23T16:19:40.333522Z",
          "iopub.status.idle": "2023-09-23T16:19:40.341976Z",
          "shell.execute_reply.started": "2023-09-23T16:19:40.333492Z",
          "shell.execute_reply": "2023-09-23T16:19:40.340658Z"
        },
        "trusted": true,
        "id": "_UhpQTScS4V6",
        "outputId": "a27acd5e-9553-4f17-fc29-6e4d5a9bc1e2",
        "colab": {
          "base_uri": "https://localhost:8080/"
        }
      },
      "execution_count": null,
      "outputs": [
        {
          "output_type": "execute_result",
          "data": {
            "text/plain": [
              "{'Free', 'Freemium', 'Paid'}"
            ]
          },
          "metadata": {},
          "execution_count": 10
        }
      ]
    },
    {
      "cell_type": "code",
      "source": [
        "df.info()"
      ],
      "metadata": {
        "execution": {
          "iopub.status.busy": "2023-09-23T16:19:40.344482Z",
          "iopub.execute_input": "2023-09-23T16:19:40.345107Z",
          "iopub.status.idle": "2023-09-23T16:19:40.365402Z",
          "shell.execute_reply.started": "2023-09-23T16:19:40.345075Z",
          "shell.execute_reply": "2023-09-23T16:19:40.364328Z"
        },
        "trusted": true,
        "id": "EpH43bnES4V6",
        "outputId": "a62a787f-4de7-40cc-ef9e-36bbaae42bd0",
        "colab": {
          "base_uri": "https://localhost:8080/"
        }
      },
      "execution_count": null,
      "outputs": [
        {
          "output_type": "stream",
          "name": "stdout",
          "text": [
            "<class 'pandas.core.frame.DataFrame'>\n",
            "RangeIndex: 4969 entries, 0 to 4968\n",
            "Data columns (total 10 columns):\n",
            " #   Column           Non-Null Count  Dtype  \n",
            "---  ------           --------------  -----  \n",
            " 0   ai_tool_name     4969 non-null   object \n",
            " 1   description      4969 non-null   object \n",
            " 2   free_paid_other  4969 non-null   object \n",
            " 3   useable_for      4969 non-null   object \n",
            " 4   charges          2534 non-null   object \n",
            " 5   review           1462 non-null   object \n",
            " 6   tool_link        4969 non-null   object \n",
            " 7   major_category   4969 non-null   object \n",
            " 8   charges_value    3556 non-null   float64\n",
            " 9   charges_unit     1867 non-null   object \n",
            "dtypes: float64(1), object(9)\n",
            "memory usage: 388.3+ KB\n"
          ]
        }
      ]
    },
    {
      "cell_type": "code",
      "source": [
        "df[\"free_paid_other\"] = df[\"free_paid_other\"].astype('category')\n",
        "df[\"major_category\"] = df[\"major_category\"].astype('category')\n",
        "\n",
        "df.dtypes"
      ],
      "metadata": {
        "execution": {
          "iopub.status.busy": "2023-09-23T16:19:40.366652Z",
          "iopub.execute_input": "2023-09-23T16:19:40.367403Z",
          "iopub.status.idle": "2023-09-23T16:19:40.388121Z",
          "shell.execute_reply.started": "2023-09-23T16:19:40.367359Z",
          "shell.execute_reply": "2023-09-23T16:19:40.386909Z"
        },
        "trusted": true,
        "id": "1XEA-6kDS4V7",
        "outputId": "ec17dc17-e09a-4661-b2e4-6b700d4a3e50",
        "colab": {
          "base_uri": "https://localhost:8080/"
        }
      },
      "execution_count": null,
      "outputs": [
        {
          "output_type": "execute_result",
          "data": {
            "text/plain": [
              "ai_tool_name         object\n",
              "description          object\n",
              "free_paid_other    category\n",
              "useable_for          object\n",
              "charges              object\n",
              "review               object\n",
              "tool_link            object\n",
              "major_category     category\n",
              "charges_value       float64\n",
              "charges_unit         object\n",
              "dtype: object"
            ]
          },
          "metadata": {},
          "execution_count": 12
        }
      ]
    },
    {
      "cell_type": "code",
      "source": [
        "set(df.major_category)"
      ],
      "metadata": {
        "execution": {
          "iopub.status.busy": "2023-09-23T16:19:40.390201Z",
          "iopub.execute_input": "2023-09-23T16:19:40.390808Z",
          "iopub.status.idle": "2023-09-23T16:19:40.401716Z",
          "shell.execute_reply.started": "2023-09-23T16:19:40.390776Z",
          "shell.execute_reply": "2023-09-23T16:19:40.40057Z"
        },
        "trusted": true,
        "id": "vm3r-GS-S4V7",
        "outputId": "624b6163-d787-4ddb-95ac-a1039d3bb1ce",
        "colab": {
          "base_uri": "https://localhost:8080/"
        }
      },
      "execution_count": null,
      "outputs": [
        {
          "output_type": "execute_result",
          "data": {
            "text/plain": [
              "{'3D', 'audio', 'business', 'code', 'image', 'other', 'text', 'video'}"
            ]
          },
          "metadata": {},
          "execution_count": 13
        }
      ]
    },
    {
      "cell_type": "code",
      "source": [
        "# df['review'].fillna('Not Reviewed', inplace=True)\n",
        "\n",
        "# -1 means not reviewed, better keep it numerical\n",
        "df[\"review\"].replace('undefined', -1, inplace=True)\n",
        "df[\"review\"].fillna(-1, inplace=True)"
      ],
      "metadata": {
        "execution": {
          "iopub.status.busy": "2023-09-23T16:19:40.403257Z",
          "iopub.execute_input": "2023-09-23T16:19:40.403658Z",
          "iopub.status.idle": "2023-09-23T16:19:40.419119Z",
          "shell.execute_reply.started": "2023-09-23T16:19:40.403625Z",
          "shell.execute_reply": "2023-09-23T16:19:40.417978Z"
        },
        "trusted": true,
        "id": "rqhdk-4DS4V7"
      },
      "execution_count": null,
      "outputs": []
    },
    {
      "cell_type": "code",
      "source": [
        "df[\"review\"] = df[\"review\"].astype(float)"
      ],
      "metadata": {
        "execution": {
          "iopub.status.busy": "2023-09-23T16:19:40.420976Z",
          "iopub.execute_input": "2023-09-23T16:19:40.421677Z",
          "iopub.status.idle": "2023-09-23T16:19:40.434701Z",
          "shell.execute_reply.started": "2023-09-23T16:19:40.42164Z",
          "shell.execute_reply": "2023-09-23T16:19:40.433219Z"
        },
        "trusted": true,
        "id": "Bdv1PCo1S4V7"
      },
      "execution_count": null,
      "outputs": []
    },
    {
      "cell_type": "code",
      "source": [
        "df[df.review > 0].review.describe()"
      ],
      "metadata": {
        "execution": {
          "iopub.status.busy": "2023-09-23T16:19:40.440263Z",
          "iopub.execute_input": "2023-09-23T16:19:40.441092Z",
          "iopub.status.idle": "2023-09-23T16:19:40.462009Z",
          "shell.execute_reply.started": "2023-09-23T16:19:40.441041Z",
          "shell.execute_reply": "2023-09-23T16:19:40.46058Z"
        },
        "trusted": true,
        "id": "UoiUwz8kS4V7",
        "outputId": "09ea4809-08fe-45bd-de51-655bf6ddff63",
        "colab": {
          "base_uri": "https://localhost:8080/"
        }
      },
      "execution_count": null,
      "outputs": [
        {
          "output_type": "execute_result",
          "data": {
            "text/plain": [
              "count    1459.000000\n",
              "mean        1.916381\n",
              "std         2.171615\n",
              "min         1.000000\n",
              "25%         1.000000\n",
              "50%         1.000000\n",
              "75%         2.000000\n",
              "max        42.000000\n",
              "Name: review, dtype: float64"
            ]
          },
          "metadata": {},
          "execution_count": 16
        }
      ]
    },
    {
      "cell_type": "code",
      "source": [
        "df[df.review > 10].review.describe()"
      ],
      "metadata": {
        "execution": {
          "iopub.status.busy": "2023-09-23T16:19:40.463798Z",
          "iopub.execute_input": "2023-09-23T16:19:40.46455Z",
          "iopub.status.idle": "2023-09-23T16:19:40.477718Z",
          "shell.execute_reply.started": "2023-09-23T16:19:40.464505Z",
          "shell.execute_reply": "2023-09-23T16:19:40.476648Z"
        },
        "trusted": true,
        "id": "hmvbfhueS4V7",
        "outputId": "6ba49854-0fd8-4646-9dae-b0de20220763",
        "colab": {
          "base_uri": "https://localhost:8080/"
        }
      },
      "execution_count": null,
      "outputs": [
        {
          "output_type": "execute_result",
          "data": {
            "text/plain": [
              "count    13.000000\n",
              "mean     15.846154\n",
              "std       8.384968\n",
              "min      11.000000\n",
              "25%      11.000000\n",
              "50%      14.000000\n",
              "75%      15.000000\n",
              "max      42.000000\n",
              "Name: review, dtype: float64"
            ]
          },
          "metadata": {},
          "execution_count": 17
        }
      ]
    },
    {
      "cell_type": "code",
      "source": [
        "# will replace the values above 10 for now with -1 (not reviewed)\n",
        "df.loc[df.review > 10, \"review\"] = -1"
      ],
      "metadata": {
        "execution": {
          "iopub.status.busy": "2023-09-23T16:19:40.479383Z",
          "iopub.execute_input": "2023-09-23T16:19:40.479764Z",
          "iopub.status.idle": "2023-09-23T16:19:40.488815Z",
          "shell.execute_reply.started": "2023-09-23T16:19:40.479724Z",
          "shell.execute_reply": "2023-09-23T16:19:40.487382Z"
        },
        "trusted": true,
        "id": "rqJHq9RCS4V7"
      },
      "execution_count": null,
      "outputs": []
    },
    {
      "cell_type": "code",
      "source": [
        "df[\"review\"] = df[\"review\"].astype(float)"
      ],
      "metadata": {
        "execution": {
          "iopub.status.busy": "2023-09-23T16:19:40.490501Z",
          "iopub.execute_input": "2023-09-23T16:19:40.490955Z",
          "iopub.status.idle": "2023-09-23T16:19:40.507245Z",
          "shell.execute_reply.started": "2023-09-23T16:19:40.490912Z",
          "shell.execute_reply": "2023-09-23T16:19:40.506112Z"
        },
        "trusted": true,
        "id": "s6JW8DHSS4V7"
      },
      "execution_count": null,
      "outputs": []
    },
    {
      "cell_type": "code",
      "source": [
        "df.isna().sum()"
      ],
      "metadata": {
        "execution": {
          "iopub.status.busy": "2023-09-23T16:19:40.508531Z",
          "iopub.execute_input": "2023-09-23T16:19:40.508876Z",
          "iopub.status.idle": "2023-09-23T16:19:40.531365Z",
          "shell.execute_reply.started": "2023-09-23T16:19:40.508825Z",
          "shell.execute_reply": "2023-09-23T16:19:40.530232Z"
        },
        "trusted": true,
        "id": "T532sLMwS4V7",
        "outputId": "330e2cbc-10b9-4760-9743-c75d90f4b713",
        "colab": {
          "base_uri": "https://localhost:8080/"
        }
      },
      "execution_count": null,
      "outputs": [
        {
          "output_type": "execute_result",
          "data": {
            "text/plain": [
              "ai_tool_name          0\n",
              "description           0\n",
              "free_paid_other       0\n",
              "useable_for           0\n",
              "charges            2435\n",
              "review                0\n",
              "tool_link             0\n",
              "major_category        0\n",
              "charges_value      1413\n",
              "charges_unit       3102\n",
              "dtype: int64"
            ]
          },
          "metadata": {},
          "execution_count": 20
        }
      ]
    },
    {
      "cell_type": "markdown",
      "source": [
        "### Time for plotting"
      ],
      "metadata": {
        "id": "G07rfp_xS4V7"
      }
    },
    {
      "cell_type": "code",
      "source": [
        "import matplotlib.pyplot as plt\n",
        "import seaborn as sns"
      ],
      "metadata": {
        "execution": {
          "iopub.status.busy": "2023-09-23T16:19:40.533016Z",
          "iopub.execute_input": "2023-09-23T16:19:40.534303Z",
          "iopub.status.idle": "2023-09-23T16:19:40.539587Z",
          "shell.execute_reply.started": "2023-09-23T16:19:40.534259Z",
          "shell.execute_reply": "2023-09-23T16:19:40.538215Z"
        },
        "trusted": true,
        "id": "34zfeUI2S4V8"
      },
      "execution_count": null,
      "outputs": []
    },
    {
      "cell_type": "markdown",
      "source": [
        "### Considering there are differences on pricing per month, per year or with credits etc. will go back 'charge_value' later."
      ],
      "metadata": {
        "id": "9cYCQOqNS4V8"
      }
    },
    {
      "cell_type": "code",
      "source": [
        "plt.figure(figsize=(15, 8))\n",
        "\n",
        "# just to get a visual for prices under $100 for now\n",
        "sns.boxplot(x='charges_value', y='major_category', data=df[df.charges_value<100])\n",
        "plt.title('Price Distribution Across Major Categories')\n",
        "plt.show()"
      ],
      "metadata": {
        "execution": {
          "iopub.status.busy": "2023-09-23T16:19:40.541264Z",
          "iopub.execute_input": "2023-09-23T16:19:40.541692Z",
          "iopub.status.idle": "2023-09-23T16:19:41.063015Z",
          "shell.execute_reply.started": "2023-09-23T16:19:40.541652Z",
          "shell.execute_reply": "2023-09-23T16:19:41.061874Z"
        },
        "trusted": true,
        "id": "JmjlKtvnS4V8",
        "outputId": "9ed98f62-e527-4147-9d2c-75d333b89bb3",
        "colab": {
          "base_uri": "https://localhost:8080/",
          "height": 718
        }
      },
      "execution_count": null,
      "outputs": [
        {
          "output_type": "display_data",
          "data": {
            "text/plain": [
              "<Figure size 1500x800 with 1 Axes>"
            ],
            "image/png": "[encoded data removed]"
          },
          "metadata": {}
        }
      ]
    },
    {
      "cell_type": "code",
      "source": [
        "# filtering out no reviews\n",
        "filtered = df[df[\"review\"] > 0]\n",
        "\n",
        "plt.figure(figsize=(15, 8))\n",
        "\n",
        "sns.violinplot(x='major_category', y='review', data=filtered, inner=None, color='lightgrey')\n",
        "sns.stripplot(x='major_category', y='review', data=filtered, jitter=True, alpha=0.7, color=\"darkblue\")\n",
        "\n",
        "plt.title('Distribution and Density of Reviews Across Major Categories')\n",
        "plt.xticks(rotation=45)\n",
        "plt.show()\n"
      ],
      "metadata": {
        "execution": {
          "iopub.status.busy": "2023-09-23T16:19:41.064522Z",
          "iopub.execute_input": "2023-09-23T16:19:41.064887Z",
          "iopub.status.idle": "2023-09-23T16:19:41.724296Z",
          "shell.execute_reply.started": "2023-09-23T16:19:41.064831Z",
          "shell.execute_reply": "2023-09-23T16:19:41.722933Z"
        },
        "trusted": true,
        "id": "Qrs2KAgBS4V8",
        "outputId": "bf246683-7476-49f2-ab4a-287e5842d829",
        "colab": {
          "base_uri": "https://localhost:8080/",
          "height": 757
        }
      },
      "execution_count": null,
      "outputs": [
        {
          "output_type": "display_data",
          "data": {
            "text/plain": [
              "<Figure size 1500x800 with 1 Axes>"
            ],
            "image/png": "[encoded data removed]"
          },
          "metadata": {}
        }
      ]
    },
    {
      "cell_type": "code",
      "source": [
        "grouped_reviews = df[df.review >= 0].groupby(\"free_paid_other\")[\"review\"].mean()\n",
        "print(grouped_reviews)"
      ],
      "metadata": {
        "execution": {
          "iopub.status.busy": "2023-09-23T16:19:41.725958Z",
          "iopub.execute_input": "2023-09-23T16:19:41.726357Z",
          "iopub.status.idle": "2023-09-23T16:19:41.736153Z",
          "shell.execute_reply.started": "2023-09-23T16:19:41.726326Z",
          "shell.execute_reply": "2023-09-23T16:19:41.735178Z"
        },
        "trusted": true,
        "id": "FK0nBgcMS4V8",
        "outputId": "eef76e0b-056d-4cf8-bce1-1cbcba192541",
        "colab": {
          "base_uri": "https://localhost:8080/"
        }
      },
      "execution_count": null,
      "outputs": [
        {
          "output_type": "stream",
          "name": "stdout",
          "text": [
            "free_paid_other\n",
            "Free        1.882825\n",
            "Freemium    1.853535\n",
            "Paid        1.379913\n",
            "Name: review, dtype: float64\n"
          ]
        }
      ]
    },
    {
      "cell_type": "code",
      "source": [
        "plt.figure(figsize=(8, 6))\n",
        "sns.barplot(x='free_paid_other', y='review', data=df[df.review >= 0])\n",
        "plt.title('Average Reviews for Free vs Paid Tools')\n",
        "plt.show()"
      ],
      "metadata": {
        "execution": {
          "iopub.status.busy": "2023-09-23T16:19:41.737461Z",
          "iopub.execute_input": "2023-09-23T16:19:41.738346Z",
          "iopub.status.idle": "2023-09-23T16:19:42.197239Z",
          "shell.execute_reply.started": "2023-09-23T16:19:41.738312Z",
          "shell.execute_reply": "2023-09-23T16:19:42.196003Z"
        },
        "trusted": true,
        "id": "o-FoOyewS4V8",
        "outputId": "4aae9a87-c04c-4f40-8541-67008bcb393b",
        "colab": {
          "base_uri": "https://localhost:8080/",
          "height": 564
        }
      },
      "execution_count": null,
      "outputs": [
        {
          "output_type": "display_data",
          "data": {
            "text/plain": [
              "<Figure size 800x600 with 1 Axes>"
            ],
            "image/png": "[encoded data removed]"
          },
          "metadata": {}
        }
      ]
    },
    {
      "cell_type": "code",
      "source": [
        "df[\"price_bins\"] = pd.cut(df[\"charges_value\"], bins=[0, 50, 100, 200, np.inf], labels=['0-50', '51-100', '101-200', '200+'])\n",
        "\n",
        "plt.figure(figsize=(10, 6))\n",
        "sns.lineplot(x=\"price_bins\", y=\"review\", data=df[df.review >= 0])\n",
        "plt.title('Average Reviews Across Price Bins')\n",
        "plt.show()\n"
      ],
      "metadata": {
        "execution": {
          "iopub.status.busy": "2023-09-23T16:19:42.198701Z",
          "iopub.execute_input": "2023-09-23T16:19:42.199055Z",
          "iopub.status.idle": "2023-09-23T16:19:42.707347Z",
          "shell.execute_reply.started": "2023-09-23T16:19:42.19902Z",
          "shell.execute_reply": "2023-09-23T16:19:42.705982Z"
        },
        "trusted": true,
        "id": "QvArS4aGS4V9",
        "outputId": "4e1f312a-11d6-4aa8-bf3b-0bd8770de243",
        "colab": {
          "base_uri": "https://localhost:8080/",
          "height": 564
        }
      },
      "execution_count": null,
      "outputs": [
        {
          "output_type": "display_data",
          "data": {
            "text/plain": [
              "<Figure size 1000x600 with 1 Axes>"
            ],
            "image/png": "[encoded data removed]"
          },
          "metadata": {}
        }
      ]
    },
    {
      "cell_type": "code",
      "source": [
        "sns.set(style=\"whitegrid\")\n",
        "colors = ['lightcoral', 'plum', 'lightblue']\n",
        "\n",
        "grouped_data = df.groupby([\"major_category\", \"free_paid_other\"]).size().reset_index(name='Count')\n",
        "pivot_data = grouped_data.pivot(index=\"major_category\", columns=\"free_paid_other\", values='Count').fillna(0)\n",
        "\n",
        "# normalizing for 100% view\n",
        "pivot_data[\"Total\"] = pivot_data.sum(axis=1)\n",
        "for col in pivot_data.columns.difference([\"Total\"]):\n",
        "    pivot_data[col] = (pivot_data[col] / pivot_data[\"Total\"]) * 100\n",
        "\n",
        "\n",
        "fig, ax1 = plt.subplots(figsize=(15, 8))\n",
        "pivot_data.drop(columns=[\"Total\"]).plot(kind='bar', stacked=True, ax=ax1, color=colors)\n",
        "ax1.set_title('Distribution of Major Categories by Payment Model (%)')\n",
        "ax1.set_ylabel('Percentage')\n",
        "ax1.set_xlabel('Major Category')\n",
        "ax1.legend(title='Payment Model', loc='upper left')\n",
        "\n",
        "\n",
        "ax2 = ax1.twinx()\n",
        "ax2.plot(ax1.get_xticks(), pivot_data[\"Total\"].values, marker='o', linestyle='-', linewidth=2, color='darkred', label='Total Count')\n",
        "ax2.legend(title='Line Plot', loc='upper right')\n",
        "ax2.set_ylabel('Total Count')\n",
        "ax2.set_ylim([0, max(pivot_data[\"Total\"].values) * 1.1])  # extending upper limit for better visibility\n",
        "\n",
        "plt.show()"
      ],
      "metadata": {
        "execution": {
          "iopub.status.busy": "2023-09-23T16:19:42.711319Z",
          "iopub.execute_input": "2023-09-23T16:19:42.711674Z",
          "iopub.status.idle": "2023-09-23T16:19:43.474514Z",
          "shell.execute_reply.started": "2023-09-23T16:19:42.711644Z",
          "shell.execute_reply": "2023-09-23T16:19:43.473357Z"
        },
        "trusted": true,
        "id": "qslv17X0S4V9",
        "outputId": "8de7482c-3dd8-44b7-9b4b-83291ded624a",
        "colab": {
          "base_uri": "https://localhost:8080/",
          "height": 778
        }
      },
      "execution_count": null,
      "outputs": [
        {
          "output_type": "display_data",
          "data": {
            "text/plain": [
              "<Figure size 1500x800 with 2 Axes>"
            ],
            "image/png": "[encoded data removed]"
          },
          "metadata": {}
        }
      ]
    },
    {
      "cell_type": "code",
      "source": [
        "import ipywidgets as widgets\n",
        "from IPython.display import display, clear_output\n",
        "import pandas as pd\n",
        "\n",
        "class DataFilter:\n",
        "    def __init__(self, df, filter_cols, sort_cols):\n",
        "        self.df = df\n",
        "        self.filter_cols = filter_cols\n",
        "        self.sort_cols = sort_cols\n",
        "        self.initialize_widgets()\n",
        "        self.bind_events()\n",
        "        self.display_widgets()\n",
        "        self.filter_and_display_data(None)\n",
        "\n",
        "    def initialize_widgets(self):\n",
        "        self.dropdowns = {}\n",
        "\n",
        "        for col, label in self.filter_cols.items():\n",
        "            self.dropdowns[col] = widgets.Dropdown(\n",
        "                options=['All'] + list(self.df[col].unique()),\n",
        "                description=label\n",
        "            )\n",
        "\n",
        "        self.sort_by_dropdown = widgets.Dropdown(\n",
        "            options=['None'] + self.sort_cols,\n",
        "            description='Sort By:'\n",
        "        )\n",
        "\n",
        "        self.sort_order_dropdown = widgets.Dropdown(\n",
        "            options=['None', 'Ascending', 'Descending'],\n",
        "            description='Order:'\n",
        "        )\n",
        "\n",
        "        self.output = widgets.Output()\n",
        "\n",
        "    def bind_events(self):\n",
        "        for dropdown in self.dropdowns.values():\n",
        "            dropdown.observe(self.filter_and_display_data, names='value')\n",
        "\n",
        "        self.sort_by_dropdown.observe(self.filter_and_display_data, names='value')\n",
        "        self.sort_order_dropdown.observe(self.filter_and_display_data, names='value')\n",
        "\n",
        "    def display_widgets(self):\n",
        "        for dropdown in self.dropdowns.values():\n",
        "            display(dropdown)\n",
        "\n",
        "        display(self.sort_by_dropdown)\n",
        "        display(self.sort_order_dropdown)\n",
        "        display(self.output)\n",
        "\n",
        "    def filter_and_display_data(self, change):\n",
        "        with self.output:\n",
        "            clear_output()\n",
        "\n",
        "            filtered_df = self.df.copy()\n",
        "\n",
        "            for col, dropdown in self.dropdowns.items():\n",
        "                if dropdown.value != 'All':\n",
        "                    filtered_df = filtered_df[filtered_df[col] == dropdown.value]\n",
        "\n",
        "            if self.sort_by_dropdown.value != 'None':\n",
        "                ascending = True if self.sort_order_dropdown.value == 'Ascending' else False\n",
        "                filtered_df = filtered_df.sort_values(by=self.sort_by_dropdown.value, ascending=ascending)\n",
        "\n",
        "            display(filtered_df)"
      ],
      "metadata": {
        "_kg_hide-input": false,
        "execution": {
          "iopub.status.busy": "2023-09-23T16:19:43.476161Z",
          "iopub.execute_input": "2023-09-23T16:19:43.476502Z",
          "iopub.status.idle": "2023-09-23T16:19:43.493878Z",
          "shell.execute_reply.started": "2023-09-23T16:19:43.476472Z",
          "shell.execute_reply": "2023-09-23T16:19:43.492566Z"
        },
        "trusted": true,
        "id": "QX2fhRkSS4V9"
      },
      "execution_count": null,
      "outputs": []
    },
    {
      "cell_type": "code",
      "source": [
        "filter_cols = {\"free_paid_other\": \"Free/Paid\",\"major_category\": \"Category\"}\n",
        "sort_cols = [\"review\", \"charges_value\"]\n",
        "\n",
        "data_filter = DataFilter(df, filter_cols, sort_cols)"
      ],
      "metadata": {
        "execution": {
          "iopub.status.busy": "2023-09-23T16:19:43.495385Z",
          "iopub.execute_input": "2023-09-23T16:19:43.495712Z",
          "iopub.status.idle": "2023-09-23T16:19:43.567659Z",
          "shell.execute_reply.started": "2023-09-23T16:19:43.495683Z",
          "shell.execute_reply": "2023-09-23T16:19:43.566878Z"
        },
        "trusted": true,
        "id": "zsIXSP1MS4V-",
        "outputId": "56af6101-8d14-4e59-cbc4-9493e0590ceb",
        "colab": {
          "base_uri": "https://localhost:8080/",
          "height": 737,
          "referenced_widgets": [
            "8e6d006755eb439186c4ee377a2613ba",
            "0276d022a0514d7c801ad211763d48cc",
            "78fceba64c6c49aa8d3785115fb9410e",
            "bf75f5b8ada84425b57bf433abb1e417",
            "d87a3f1501f749669d05ff8a83bba87c",
            "b84b8fc9d3574a3981059a5c2d9df4bb",
            "447801881169477a9496c1ad4bb2be7c",
            "0fc7bc5b05404aa5922c2433aad52020",
            "be223fcbd27b41029966bd6df7cf3c7e",
            "fadc038a06f34b1992a60e349854366c",
            "7745b372973c45a39d1da303dd4f392d",
            "8742e4c929e74af8868f91e243e316d1",
            "a1b598b716874e028f08207f2147b864",
            "e7cab4a6bff64606b799f6c378397e1b"
          ]
        }
      },
      "execution_count": null,
      "outputs": [
        {
          "output_type": "display_data",
          "data": {
            "text/plain": [
              "Dropdown(description='Free/Paid', options=('All', 'Free', 'Freemium', 'Paid'), value='All')"
            ],
            "application/vnd.jupyter.widget-view+json": {
              "version_major": 2,
              "version_minor": 0,
              "model_id": "8e6d006755eb439186c4ee377a2613ba"
            }
          },
          "metadata": {}
        },
        {
          "output_type": "display_data",
          "data": {
            "text/plain": [
              "Dropdown(description='Category', options=('All', 'other', 'text', 'audio', 'image', 'code', '3D', 'business', …"
            ],
            "application/vnd.jupyter.widget-view+json": {
              "version_major": 2,
              "version_minor": 0,
              "model_id": "bf75f5b8ada84425b57bf433abb1e417"
            }
          },
          "metadata": {}
        },
        {
          "output_type": "display_data",
          "data": {
            "text/plain": [
              "Dropdown(description='Sort By:', options=('None', 'review', 'charges_value'), value='None')"
            ],
            "application/vnd.jupyter.widget-view+json": {
              "version_major": 2,
              "version_minor": 0,
              "model_id": "447801881169477a9496c1ad4bb2be7c"
            }
          },
          "metadata": {}
        },
        {
          "output_type": "display_data",
          "data": {
            "text/plain": [
              "Dropdown(description='Order:', options=('None', 'Ascending', 'Descending'), value='None')"
            ],
            "application/vnd.jupyter.widget-view+json": {
              "version_major": 2,
              "version_minor": 0,
              "model_id": "fadc038a06f34b1992a60e349854366c"
            }
          },
          "metadata": {}
        },
        {
          "output_type": "display_data",
          "data": {
            "text/plain": [
              "Output()"
            ],
            "application/vnd.jupyter.widget-view+json": {
              "version_major": 2,
              "version_minor": 0,
              "model_id": "a1b598b716874e028f08207f2147b864"
            }
          },
          "metadata": {}
        }
      ]
    }
  ]
}