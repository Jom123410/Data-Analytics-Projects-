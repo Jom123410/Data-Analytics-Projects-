{
  "nbformat": 4,
  "nbformat_minor": 0,
  "metadata": {
    "colab": {
      "provenance": [],
      "include_colab_link": true
    },
    "kernelspec": {
      "name": "python3",
      "display_name": "Python 3"
    }
  },
  "cells": [
    {
      "cell_type": "markdown",
      "metadata": {
        "id": "view-in-github",
        "colab_type": "text"
      },
      "source": [
        "<a href=\"https://colab.research.google.com/github/Jom123410/280222/blob/master/Copy_of_CIDM6352_Homework_2_Instructions.ipynb\" target=\"_parent\"><img src=\"https://colab.research.google.com/assets/colab-badge.svg\" alt=\"Open In Colab\"/></a>"
      ]
    },
    {
      "cell_type": "markdown",
      "metadata": {
        "id": "lJURtoBh4mQu"
      },
      "source": [
        "<h1  align=\"center\">CIDM6351: Homework 2 Instructions. Importing and Cleaning Data</h1>\n",
        "\n",
        "* Watch: Dr. Humpherys explains homework 2 video (5 mins) https://www.screencast.com/t/9tIllQJD8Hv  \n",
        "* **Save a copy to your Google Drive and answer the questions on your copy**\n",
        "* **Change the share to \"Anyone with link\" so the professor can view your code**\n",
        "* **Submit the share link of your Colab Notebook to WTClass**\n",
        "* This assignment is open notes/Internet/Datacamp but you can only consult with a CIS tutors or the professor.\n",
        "- Students should complete this assignment **individually.** If you need help, contact a CIS tutor or the professor.\n",
        "- Submit the URL to your Google Colab notebook to \\\\Wtclass\\cidm6351\\Week 6\\Turn in Homework 2\\"
      ]
    },
    {
      "cell_type": "markdown",
      "source": [
        "### Scenario: You are a data engineer for a large ice cream manufacturing company. Company stake holders want to know which ice cream flavors to diversity into. You need to gather and prepare some data on the favorite types of ice cream. You find some survey data on this topic. You will import the data, perform some cleaning tasks, and create a simple bar chart of the most popular ice cream flavors and the percentage of adults who like those flavors. ###\n",
        "Original data comes from https://fox8.com/news/the-21-most-popular-ice-cream-flavors-in-america/"
      ],
      "metadata": {
        "id": "9aLy96WuuB1N"
      }
    },
    {
      "cell_type": "markdown",
      "source": [
        "###Data Dictionary: ###  \n",
        "Both data files have the following fields/columns.\n",
        "\n",
        "Ice_Cream_Flavor : <str> The name of the ice cream.  \n",
        "Like_It_Percentage : <str> The percetage of adults surveyed who like that particular ice cream flavor.  \n",
        "Favorite_Percentage : <str> The percentage of adults surveyed who say that flavor is their favorite.  "
      ],
      "metadata": {
        "id": "vYNljP3wu-0r"
      }
    },
    {
      "cell_type": "markdown",
      "metadata": {
        "id": "oHX6cXOpqYxS"
      },
      "source": [
        "# Question 1 (30%): Importing data with Pandas"
      ]
    },
    {
      "cell_type": "code",
      "metadata": {
        "id": "IRqyECpiq9kL"
      },
      "source": [
        "# Run this cell\n",
        "# Dr. Humpherys provides you the URLs to the data files you need.\n",
        "ice_cream_part_one_url = 'https://raw.githubusercontent.com/sean-humpherys/randomfilestorage/main/ice_cream_part_one.csv'\n",
        "ice_cream_part_two_url = 'https://raw.githubusercontent.com/sean-humpherys/randomfilestorage/main/ice_cream_part_two.json'"
      ],
      "execution_count": 3,
      "outputs": []
    },
    {
      "cell_type": "markdown",
      "source": [
        "### Q1.1 (5%) Import the pandas library as pd"
      ],
      "metadata": {
        "id": "2zV5pjm-gpGy"
      }
    },
    {
      "cell_type": "code",
      "source": [
        "import pandas as pd\n",
        "\n"
      ],
      "metadata": {
        "id": "sqmbHp_ZgkZK"
      },
      "execution_count": 4,
      "outputs": []
    },
    {
      "cell_type": "markdown",
      "metadata": {
        "id": "eGikJ1sS8kt3"
      },
      "source": [
        "### Q1.2  (5%) Load the data stored in ```ice_cream_part_one.csv``` into Pandas DataFrames. No need to print the data yet."
      ]
    },
    {
      "cell_type": "code",
      "metadata": {
        "id": "CNunFdHOrRIY"
      },
      "source": [
        "ice_cream_part_one = pd.read_csv('https://raw.githubusercontent.com/sean-humpherys/randomfilestorage/main/ice_cream_part_one.csv')\n"
      ],
      "execution_count": 5,
      "outputs": []
    },
    {
      "cell_type": "markdown",
      "metadata": {
        "id": "EJ6zZrlJhqvK"
      },
      "source": [
        "### Q1.3  (5%) Load the data stored in ```ice_cream_part_two.json``` into Pandas DataFrames. No need to print the data yet."
      ]
    },
    {
      "cell_type": "code",
      "source": [
        "ice_cream_part_two = pd.read_json('https://raw.githubusercontent.com/sean-humpherys/randomfilestorage/main/ice_cream_part_two.json')\n"
      ],
      "metadata": {
        "id": "ZBFyykqyhzZS"
      },
      "execution_count": 6,
      "outputs": []
    },
    {
      "cell_type": "markdown",
      "metadata": {
        "id": "BFj9lo7vsWXX"
      },
      "source": [
        "### 1.4  (5%) Print the information or head of both dataframes, respectively"
      ]
    },
    {
      "cell_type": "code",
      "source": [
        "print(ice_cream_part_one.head())\n",
        "print(ice_cream_part_two.head())\n"
      ],
      "metadata": {
        "id": "jGyiHjPChUcp",
        "outputId": "37bd6a5a-25c5-4cb0-c2fd-8a67595e379f",
        "colab": {
          "base_uri": "https://localhost:8080/"
        }
      },
      "execution_count": 7,
      "outputs": [
        {
          "output_type": "stream",
          "name": "stdout",
          "text": [
            "  Ice_Cream_Flavor Like_It_Percentage Favorite_Percentage\n",
            "0            peach                22%                  1%\n",
            "1     butterscotch                16%                  1%\n",
            "2   chocolate chip                39%                  2%\n",
            "3        chocolate                51%                 10%\n",
            "4          vanilla                59%                 11%\n",
            "          Ice_Cream_Flavor Like_It_Percentage Favorite_Percentage\n",
            "0               strawberry                43%                  6%\n",
            "1  chocolate peanut butter                26%                  5%\n",
            "2             butter pecan                35%                  8%\n",
            "3        cookies and cream                43%                  7%\n",
            "4      mint chocolate chip                33%                  9%\n"
          ]
        }
      ]
    },
    {
      "cell_type": "markdown",
      "metadata": {
        "id": "8mBPUYmluWje"
      },
      "source": [
        "### 1.5  (5%) Combine the two dataframes into one panda dataframe called \"ice_cream\". ###\n",
        "If you need a hint, search on Google \"combine two pandas dataframes\", \"join two pandas dataframes\", or \"concatenate pandas dataframe\". Searching with the correct phrase is a useful data engineering technique."
      ]
    },
    {
      "cell_type": "code",
      "source": [
        "ice_cream = pd.concat([ice_cream_part_one, ice_cream_part_two], ignore_index=True)\n"
      ],
      "metadata": {
        "id": "AsN8yKvWh_ga"
      },
      "execution_count": 8,
      "outputs": []
    },
    {
      "cell_type": "markdown",
      "source": [
        "### 1.6  (5%) Print the contents of the ice_cream dataframe. ###"
      ],
      "metadata": {
        "id": "s__qzS_XkHi2"
      }
    },
    {
      "cell_type": "code",
      "source": [
        "print(ice_cream)\n"
      ],
      "metadata": {
        "id": "_-la7OV1kdA2",
        "outputId": "dcbabfbf-784f-4102-bc04-6f31e641f1ec",
        "colab": {
          "base_uri": "https://localhost:8080/"
        }
      },
      "execution_count": 9,
      "outputs": [
        {
          "output_type": "stream",
          "name": "stdout",
          "text": [
            "               Ice_Cream_Flavor Like_It_Percentage Favorite_Percentage\n",
            "0                         peach                22%                  1%\n",
            "1                  butterscotch                16%                  1%\n",
            "2                chocolate chip                39%                  2%\n",
            "3                     chocolate                51%                 10%\n",
            "4                       vanilla                59%                 11%\n",
            "5                        coffee                23%                  5%\n",
            "6                       caramel                33%                  3%\n",
            "7                 peanut butter                21%                  2%\n",
            "8                    neopolitan                30%                  2%\n",
            "9                        cherry                23%                  2%\n",
            "10  chocolate chip cookie dough                34%                  6%\n",
            "11                birthday cake                20%                  2%\n",
            "12                    raspberry                18%                  1%\n",
            "13                  cake batter                15%                  1%\n",
            "14                   rocky road                29%                  4%\n",
            "15                    pistachio                23%                  4%\n",
            "16                     jalapeno                NaN                    \n",
            "17                   strawberry                43%                  6%\n",
            "18      chocolate peanut butter                26%                  5%\n",
            "19                 butter pecan                35%                  8%\n",
            "20            cookies and cream                43%                  7%\n",
            "21          mint chocolate chip                33%                  9%\n"
          ]
        }
      ]
    },
    {
      "cell_type": "markdown",
      "source": [
        "# Question Two. (50%) Clean the data in preparation for data analysis. #\n"
      ],
      "metadata": {
        "id": "eMjvcheRmA8V"
      }
    },
    {
      "cell_type": "markdown",
      "source": [
        "### Q2.1 (10%) Remove missing data. Notice the row on Jalapeno ice cream does not have like it percentage or favorite percentage. Remove any row with missing data.###\n",
        "This was not taught yet in Datacamp. However, as a data engineer you will find yourself needing to learn how to do tasks not previously learned before. Consider searching Google for \"pandas remove missing values\" or \"pandas remove blank rows\"."
      ],
      "metadata": {
        "id": "4sM3CCG7kjvF"
      }
    },
    {
      "cell_type": "code",
      "source": [
        "ice_cream = ice_cream.dropna()\n"
      ],
      "metadata": {
        "id": "ZRZ9CwSGk6RW"
      },
      "execution_count": 10,
      "outputs": []
    },
    {
      "cell_type": "markdown",
      "source": [
        "### Q2.2 (10%) Capitalize all the ice cream flavor names. Each word should start with a capital letter, e.g. \"rocky road\" should become \"Rocky Road\". Print the contents of the Ice_Cream_Flavors column to show you were successful.###\n",
        "This was not taught in Datacamp. However, as a data engineer you will find yourself needing to learn how to do tasks not previously learned before. Consider searching Google for \"how to capitalize first letter in a word in pandas dataframe\" or \"capitalize first letter of each word in pandas\"."
      ],
      "metadata": {
        "id": "Icu2o2hBlB4d"
      }
    },
    {
      "cell_type": "code",
      "source": [
        "ice_cream['Ice_Cream_Flavor'] = ice_cream['Ice_Cream_Flavor'].str.title()\n",
        "print(ice_cream['Ice_Cream_Flavor'])\n"
      ],
      "metadata": {
        "id": "qa4Mwkk9l7j2",
        "outputId": "0b4839a5-8113-4906-dc5a-4a1dc2f5c05d",
        "colab": {
          "base_uri": "https://localhost:8080/"
        }
      },
      "execution_count": 11,
      "outputs": [
        {
          "output_type": "stream",
          "name": "stdout",
          "text": [
            "0                           Peach\n",
            "1                    Butterscotch\n",
            "2                  Chocolate Chip\n",
            "3                       Chocolate\n",
            "4                         Vanilla\n",
            "5                          Coffee\n",
            "6                         Caramel\n",
            "7                   Peanut Butter\n",
            "8                      Neopolitan\n",
            "9                          Cherry\n",
            "10    Chocolate Chip Cookie Dough\n",
            "11                  Birthday Cake\n",
            "12                      Raspberry\n",
            "13                    Cake Batter\n",
            "14                     Rocky Road\n",
            "15                      Pistachio\n",
            "17                     Strawberry\n",
            "18        Chocolate Peanut Butter\n",
            "19                   Butter Pecan\n",
            "20              Cookies And Cream\n",
            "21            Mint Chocolate Chip\n",
            "Name: Ice_Cream_Flavor, dtype: object\n"
          ]
        }
      ]
    },
    {
      "cell_type": "markdown",
      "source": [
        "### Q2.3 (10%) Remove the % character from the values in \"Like_It_Percentage\" and \"Favorite_Percentage\". And, print the contents of the dataframe to show you were successful.###\n",
        "For example, the value 35% becomes just 35. We don't need the % character. We just want the integers. Consider searching Google for \"how to remove the last character from pandas column\"."
      ],
      "metadata": {
        "id": "XwHMqqNinT0D"
      }
    },
    {
      "cell_type": "code",
      "source": [
        "ice_cream['Like_It_Percentage'] = ice_cream['Like_It_Percentage'].str.rstrip('%').astype(int)\n",
        "ice_cream['Favorite_Percentage'] = ice_cream['Favorite_Percentage'].str.rstrip('%').astype(int)\n",
        "print(ice_cream)\n"
      ],
      "metadata": {
        "id": "Mb3VEQbKoGQx",
        "outputId": "42dc4ad5-f7a2-4e31-a53a-0e6b793b5c8e",
        "colab": {
          "base_uri": "https://localhost:8080/"
        }
      },
      "execution_count": 12,
      "outputs": [
        {
          "output_type": "stream",
          "name": "stdout",
          "text": [
            "               Ice_Cream_Flavor  Like_It_Percentage  Favorite_Percentage\n",
            "0                         Peach                  22                    1\n",
            "1                  Butterscotch                  16                    1\n",
            "2                Chocolate Chip                  39                    2\n",
            "3                     Chocolate                  51                   10\n",
            "4                       Vanilla                  59                   11\n",
            "5                        Coffee                  23                    5\n",
            "6                       Caramel                  33                    3\n",
            "7                 Peanut Butter                  21                    2\n",
            "8                    Neopolitan                  30                    2\n",
            "9                        Cherry                  23                    2\n",
            "10  Chocolate Chip Cookie Dough                  34                    6\n",
            "11                Birthday Cake                  20                    2\n",
            "12                    Raspberry                  18                    1\n",
            "13                  Cake Batter                  15                    1\n",
            "14                   Rocky Road                  29                    4\n",
            "15                    Pistachio                  23                    4\n",
            "17                   Strawberry                  43                    6\n",
            "18      Chocolate Peanut Butter                  26                    5\n",
            "19                 Butter Pecan                  35                    8\n",
            "20            Cookies And Cream                  43                    7\n",
            "21          Mint Chocolate Chip                  33                    9\n"
          ]
        }
      ]
    },
    {
      "cell_type": "markdown",
      "source": [
        "### Q2.4 (10%) List the data so we know the most favorite to least faavorite ice cream flavors. Sort the data based by the highest liked percentage to the lowest liked percentage. If there is a tie, secondarily sort by those who say the ice cream is their favorite. Print the sorted dataframe.###"
      ],
      "metadata": {
        "id": "N_NG3Gyhp0gu"
      }
    },
    {
      "cell_type": "code",
      "source": [
        "ice_cream = ice_cream.sort_values(by=['Like_It_Percentage', 'Favorite_Percentage'], ascending=[False, False])\n",
        "print(ice_cream)\n"
      ],
      "metadata": {
        "id": "1ZMOvLkzqZu5",
        "outputId": "a48979b2-7386-41e2-8252-a8e67c927879",
        "colab": {
          "base_uri": "https://localhost:8080/"
        }
      },
      "execution_count": 13,
      "outputs": [
        {
          "output_type": "stream",
          "name": "stdout",
          "text": [
            "               Ice_Cream_Flavor  Like_It_Percentage  Favorite_Percentage\n",
            "4                       Vanilla                  59                   11\n",
            "3                     Chocolate                  51                   10\n",
            "20            Cookies And Cream                  43                    7\n",
            "17                   Strawberry                  43                    6\n",
            "2                Chocolate Chip                  39                    2\n",
            "19                 Butter Pecan                  35                    8\n",
            "10  Chocolate Chip Cookie Dough                  34                    6\n",
            "21          Mint Chocolate Chip                  33                    9\n",
            "6                       Caramel                  33                    3\n",
            "8                    Neopolitan                  30                    2\n",
            "14                   Rocky Road                  29                    4\n",
            "18      Chocolate Peanut Butter                  26                    5\n",
            "5                        Coffee                  23                    5\n",
            "15                    Pistachio                  23                    4\n",
            "9                        Cherry                  23                    2\n",
            "0                         Peach                  22                    1\n",
            "7                 Peanut Butter                  21                    2\n",
            "11                Birthday Cake                  20                    2\n",
            "12                    Raspberry                  18                    1\n",
            "1                  Butterscotch                  16                    1\n",
            "13                  Cake Batter                  15                    1\n"
          ]
        }
      ]
    },
    {
      "cell_type": "markdown",
      "source": [
        "### Q2.5 (10%) Filter out any ice cream flavors with a like it percentage less than 20%, keep those with a value of 20% and above. Store the new dataset in a dataframe called \"top_ice_creams\". Print the new dataframe.##"
      ],
      "metadata": {
        "id": "-XFEilnCqmU3"
      }
    },
    {
      "cell_type": "code",
      "source": [
        "top_ice_creams = ice_cream[ice_cream['Like_It_Percentage'] >= 20]\n",
        "print(top_ice_creams)\n"
      ],
      "metadata": {
        "id": "rC5H1mbZq4Rd",
        "outputId": "9a983b71-465b-4d22-c67f-4345738c7e33",
        "colab": {
          "base_uri": "https://localhost:8080/"
        }
      },
      "execution_count": 14,
      "outputs": [
        {
          "output_type": "stream",
          "name": "stdout",
          "text": [
            "               Ice_Cream_Flavor  Like_It_Percentage  Favorite_Percentage\n",
            "4                       Vanilla                  59                   11\n",
            "3                     Chocolate                  51                   10\n",
            "20            Cookies And Cream                  43                    7\n",
            "17                   Strawberry                  43                    6\n",
            "2                Chocolate Chip                  39                    2\n",
            "19                 Butter Pecan                  35                    8\n",
            "10  Chocolate Chip Cookie Dough                  34                    6\n",
            "21          Mint Chocolate Chip                  33                    9\n",
            "6                       Caramel                  33                    3\n",
            "8                    Neopolitan                  30                    2\n",
            "14                   Rocky Road                  29                    4\n",
            "18      Chocolate Peanut Butter                  26                    5\n",
            "5                        Coffee                  23                    5\n",
            "15                    Pistachio                  23                    4\n",
            "9                        Cherry                  23                    2\n",
            "0                         Peach                  22                    1\n",
            "7                 Peanut Butter                  21                    2\n",
            "11                Birthday Cake                  20                    2\n"
          ]
        }
      ]
    },
    {
      "cell_type": "markdown",
      "metadata": {
        "id": "BgS7mdxr2-Ps"
      },
      "source": [
        "# Question Three (20%) #\n",
        "###Create a simple bar graph of the top 20 ice cream flavors. Put the ice cream flavors on the x-axis and the like it percentage on the y-axis. Show the bar graph.###\n",
        "Consider searching Google with \"pandas bar chart\" or \"pandas plot\".\n"
      ]
    },
    {
      "cell_type": "code",
      "source": [
        "top_20_ice_creams = top_ice_creams.head(20)\n",
        "top_20_ice_creams.plot(kind='bar', x='Ice_Cream_Flavor', y='Like_It_Percentage', title=\"Top 20 Ice Cream Flavors\")\n"
      ],
      "metadata": {
        "id": "vU68YvCLslmT",
        "outputId": "89311e5c-de0d-466d-d1cf-f2e433a46855",
        "colab": {
          "base_uri": "https://localhost:8080/",
          "height": 682
        }
      },
      "execution_count": 15,
      "outputs": [
        {
          "output_type": "execute_result",
          "data": {
            "text/plain": [
              "<Axes: title={'center': 'Top 20 Ice Cream Flavors'}, xlabel='Ice_Cream_Flavor'>"
            ]
          },
          "metadata": {},
          "execution_count": 15
        },
        {
          "output_type": "display_data",
          "data": {
            "text/plain": [
              "<Figure size 640x480 with 1 Axes>"
            ],
            "image/png": "[encoded data removed]"
          },
          "metadata": {}
        }
      ]
    },
    {
      "cell_type": "markdown",
      "source": [
        "### The End. Congrats on importing and cleaning data, with a simple data visualization at the end. ###\n",
        "If you need help, reach out to the CIS tutors or the professor."
      ],
      "metadata": {
        "id": "LVH4czhasppO"
      }
    }
  ]
}